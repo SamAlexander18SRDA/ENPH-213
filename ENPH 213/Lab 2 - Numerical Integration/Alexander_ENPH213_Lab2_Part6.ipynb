{
 "cells": [
  {
   "cell_type": "markdown",
   "metadata": {},
   "source": [
    "# ENPH 213 - Week 2 Lab - Part 6\n",
    "\n",
    "Part 6 of the lab seemed more involved and warranted a new notebook.  Please complete it separately, and rename this notebook to LastName_ENPH213_Lab2-Part6, where LastName is your last name.  Submit this file along with the first notebooks containing Parts 1 through5 to onQ.\n",
    "\n",
    "Of course, please reminder that you are expected to complete your lab using your own code that you have written."
   ]
  },
  {
   "cell_type": "markdown",
   "metadata": {},
   "source": [
    "## Introduction"
   ]
  },
  {
   "cell_type": "markdown",
   "metadata": {},
   "source": [
    "In keeping with the theme of magnetics, the goal here is to calculate the force between two cylindrical magnets as part of the design of a magnetic levitation system.  As a first step, you will use the following expression, which gives the magnetic field at location $(x_1, y_1, z_1)$ due to a cylindrical magnet centred on the $z$-axis with its base in the $x-y$ plane.\n",
    "\n",
    "$\\Large B(x_1, y_1, z_1) = \\frac{\\mu_o}{4 \\pi} {\\displaystyle \\int_0^D \\int_0^{2 \\pi}} \\frac{\\vec K \\times \\vec r}{|r|^3} R d\\phi dz$"
   ]
  },
  {
   "cell_type": "markdown",
   "metadata": {},
   "source": [
    "which you may recognize as Biot-Savart's Law.  In this equation, the magnet has a thickness $D$, radius $R$, and uniform magnetization parallel to the z-axis. The magnetization produces a uniform bound surface current $\\vec K$ on the outside surface of the cylinder flowing in the $\\hat\\phi$-direction, which is the angular direction around the circular magnet.  It is this bound surface current on the edge of the cylindrical magnetic that is responsible for the magnetic field produced by the magnet.  The above equation for the magnetic field is written using Griffith’s notation, where $r$ is the separation vector from the points where the current is located to where we are evaluating the field:\n",
    "\n",
    "$\\Large \\vec r = (x_1 - R\\cos\\phi)\\hat x + (y_1 - R\\sin\\phi)\\hat y + (z_1 - z)\\hat z$"
   ]
  },
  {
   "cell_type": "markdown",
   "metadata": {},
   "source": [
    "where $R$, $\\phi$, and $z$ are where on the cylinder the surface current is flowing that we are considering.  Similarly, the vectorized surface current density can be written as:\n",
    "\n",
    "$\\Large \\vec K = K (-\\sin\\phi~\\hat x + \\cos \\phi~\\hat y)$"
   ]
  },
  {
   "cell_type": "markdown",
   "metadata": {},
   "source": [
    "By expressing the separation vector and surface current density using unit vectors in Cartesian \n",
    "coordinates, you can break the vector integral into three scalar integrals, one for each component of the \n",
    "magnetic field.  For example, the $x$-component of the magnetic field $B_x$ can be expressed as a ordinary \n",
    "double integral of a scalar function of the $\\hat x$-term in Biot-Savart's Law, which we can call BiotSavX$(x_1,y_1,z_1,\\phi,z)$.  $B_x$ will then have the integral form:\n",
    "\n",
    "$\\Large B_x (x_1, y_1, z_1) = {\\displaystyle \\int_0^D \\int_0^{2 \\pi}} \\textrm{BiotSavX}(x_1,y_1,z_1,\\phi,z) d\\phi dz$\n",
    "\n",
    "where\n",
    "\n",
    "$\\Large \\textrm{BiotSavX}(x_1,y_1,z_1,\\phi,z) = \\frac{\\mu_o R}{4 \\pi |r|^3} (\\vec K \\times \\vec r) \\cdot \\hat x$ "
   ]
  },
  {
   "cell_type": "markdown",
   "metadata": {},
   "source": [
    "Rather than using a numerical cross product and then an inner (dot) product with $\\hat x$, it is easier to do the $\\hat x$ operatio manually, which then just requires you to calculate the $x$-component of the cross product.  This term simply reduced to $K_y r_z - K_z r_y$, where the $K$ and $r$ components cane be seen in the above equations:\n",
    "$ K_y = K \\cos \\phi \\\\\n",
    "K_z = 0 \\\\\n",
    "r_y = y_1-R\\sin\\phi \\\\\n",
    "r_z = z_1 - z$"
   ]
  },
  {
   "cell_type": "markdown",
   "metadata": {},
   "source": [
    "## Part 6.1\n",
    "\n",
    "Create your scalar functions for each of the componets of the Biot-Savart integral.  In particular, create functions for each of BiotSavX, BiotSavY, and BiotSavZ.  Use the following input values:\n",
    "\n",
    "$ R=0.025~m \\\\ K=0.95 \\times 10^6~A/m \\\\ \\mu_o = 4 \\pi \\times 10^{-7}~N/A^2$\n",
    "\n",
    "Using the follwing values as input:\n",
    "\n",
    "$x_1=0.01~m, y_1=0.02~m, z_1=0.03~m, \\phi=\\pi/6, z=0.05~m$\n",
    "\n",
    "My code gave an output of:\n",
    "\n",
    "BiotSavX(0.01,0.02,0.03,$\\pi/6$,0.05) = -2.85598\n",
    "\n",
    "BiotSavY(0.01,0.02,0.03,$\\pi/6$,0.05) = -1.64890\n",
    "\n",
    "BiotSavZ(0.01,0.02,0.03,$\\pi/6$,0.05) =  1.04536\n",
    " \n",
    "Once you are getting correct values for BiotSavX, BiotSavY, and BiotSavZ, put them all together in a function called \n",
    "BiotSav$(x_1,y_1,z_1,\\phi,z)$ that outputs an array of [BiotSavX, BiotSavY, BiotSavZ].\n",
    "\n",
    "Note, it is important to consider that the functions are vectorized and can process arrays.  It is therefore important to use the Numpy functions appropriately."
   ]
  },
  {
   "cell_type": "code",
   "execution_count": 159,
   "metadata": {},
   "outputs": [
    {
     "name": "stdout",
     "output_type": "stream",
     "text": [
      "-2.8559832672799326\n",
      "-1.6489027081651355\n",
      "1.045362428607738\n",
      "(-2.8559832672799326, -1.6489027081651355, 1.045362428607738)\n"
     ]
    }
   ],
   "source": [
    "import numpy as np\n",
    "\n",
    "#Constants\n",
    "R = 0.025\n",
    "K = 0.95*(10**6)\n",
    "mu0 = (4*np.pi)*10**-7\n",
    "\n",
    "#Biot for X, getting the magnitude and the cross product for the xhat direction\n",
    "def BiotSavX(x1,y1,z1,phi,z):\n",
    "    r=[x1-R*np.cos(phi), y1-R*np.sin(phi), z1-z]\n",
    "    rMag = np.sqrt(((x1-R*np.cos(phi))**2)+((y1-R*np.sin(phi))**2)+((z1-z)**2))\n",
    "    Comp = (K*(np.cos(phi))*(z1-z))\n",
    "    return (mu0*R)/(4*np.pi*(rMag**3))*Comp\n",
    "\n",
    "            \n",
    "print(BiotSavX(0.01, 0.02, 0.03, (np.pi)/6, 0.05))\n",
    "\n",
    "#Biot for Y, getting the magnitude and the cross product for the yhat direction\n",
    "def BiotSavY(x1,y1,z1,phi,z):\n",
    "    r=[x1-R*np.cos(phi), y1-R*np.sin(phi), z1-z]\n",
    "    rMag = np.sqrt(((x1-R*np.cos(phi))**2)+((y1-R*np.sin(phi))**2)+((z1-z)**2))\n",
    "    Comp = ((K*np.sin(phi))*(z1-z))\n",
    "    return (mu0*R)/(4*np.pi*(rMag**3))*Comp\n",
    "\n",
    "print(BiotSavY(0.01, 0.02, 0.03, (np.pi)/6, 0.05))\n",
    "\n",
    "#Biot for Z, getting the magnitude and the cross product for the zhat direction\n",
    "def BiotSavZ(x1,y1,z1,phi,z):\n",
    "    r=[x1-R*np.cos(phi), y1-R*np.sin(phi), z1-z]\n",
    "    rMag = np.sqrt(((x1-R*np.cos(phi))**2)+((y1-R*np.sin(phi))**2)+((z1-z)**2))\n",
    "    \n",
    "    #Here, i simplified the expression, by making the terms first (had some syntax errors while trying to do it in one shot)\n",
    "    Kx = -K*np.sin(phi)\n",
    "    Ky = K*np.cos(phi)\n",
    "    rx = x1 - (R*np.cos(phi))\n",
    "    ry = y1 - (R*np.sin(phi))\n",
    "    \n",
    "    Comp = Kx*ry - Ky*rx\n",
    "    return (mu0*R)/(4*np.pi*(rMag**3))*Comp\n",
    "\n",
    "print(BiotSavZ(0.01, 0.02, 0.03, (np.pi)/6, 0.05))\n",
    "\n",
    "#Array to return all 3 as a vector\n",
    "def BiotSav(x1,y1,z1,phi,z):\n",
    "    return (BiotSavX(0.01, 0.02, 0.03, (np.pi)/6, 0.05), BiotSavY(0.01, 0.02, 0.03, (np.pi)/6, 0.05), BiotSavZ(0.01, 0.02, 0.03, (np.pi)/6, 0.05))\n",
    "\n",
    "print(BiotSav(0.01, 0.02, 0.03, (np.pi)/6, 0.05))"
   ]
  },
  {
   "cell_type": "markdown",
   "metadata": {},
   "source": [
    "## Part 6.2\n",
    "\n",
    "Next, write a function that evaluates the three components $[B_x,B_y,B_z]$ of the magnetic field at the point $(x_1,y_1,z_1)$ by performing the numerical integration of the Biot Savart Law.  For this part, use the dimensions of the magnet $R=0.025~m$ and $D=0.05~m$. \n",
    "\n",
    "Use the linspace function from Numpy to create 2D arrays for the $\\phi$ and z-coordinates over which you will be integrating.  Note from the integrals, $0 \\leq \\phi \\leq 2\\pi$ and $0 \\leq z \\leq D$.  Use the Weigthing Arrays for Simpson's Rule, calculate each term of the integral (ie., $B_x$, $B_y$, and $B_z$) separately.  For the $\\phi$ and $z$ arrays, identify which ones occupy which coordinate axis in the arrays and remember to define their step sizes (hphi and hz). To check your answer, using N=11 along each axis and $x_1$ = 0.01, $y_1$ = 0.02, and $z_1$= 0.03 (m), my code gave:\n",
    "\n",
    "$B_x = -0.09344 \\\\\n",
    "B_y = -0.06362 \\\\\n",
    "B_z = -0.19007 $\n"
   ]
  },
  {
   "cell_type": "code",
   "execution_count": 160,
   "metadata": {},
   "outputs": [
    {
     "name": "stdout",
     "output_type": "stream",
     "text": [
      "(-0.09343631807138224, -0.06361657773379946, -0.19006951631897429)\n"
     ]
    }
   ],
   "source": [
    "#Constants\n",
    "R = 0.025\n",
    "D = 0.05\n",
    "N = 11\n",
    "\n",
    "#Test values (changed from announcement)\n",
    "x1 = 0.03\n",
    "y1 = 0.02\n",
    "z1 = 0.01\n",
    "\n",
    "#Range of phi and z\n",
    "phii = 0\n",
    "phif = 2*np.pi\n",
    "zi = 0\n",
    "zf = D\n",
    "\n",
    "def BiotSavComp(x1, y1, z1):\n",
    "    phi = np.linspace(phii,phif,N)\n",
    "    z = np.linspace(zi,zf,N)\n",
    "    \n",
    "    #Divisions\n",
    "    hphi = (phif - phii)/(N-1)\n",
    "    hz = (zf - zi)/(N-1)\n",
    "    \n",
    "    #Weighting Array\n",
    "    FirstWeight = np.ones(N)\n",
    "    FirstWeight[1:N:2] = 4\n",
    "    FirstWeight[2:-2:2] = 2\n",
    "    \n",
    "    #Using np.outer to create a 2D Weighted Array\n",
    "    weightArray = np.outer(FirstWeight, FirstWeight)\n",
    "    \n",
    "    #Making 2D phi and z arrays, with phi and z being analogous to x and y in part 5, respectively\n",
    "    phi2D = np.repeat(phi[np.newaxis,:], N, 0)\n",
    "    z2D = np.repeat(z[np.newaxis,:], N, 0).transpose()\n",
    "    \n",
    "    #Make the other 3 variables 2D arrays of homogenous value (To make the functions in 6.1 work nicely...)\n",
    "    \n",
    "    x1Array = np.linspace(x1,x1,N)\n",
    "    y1Array = np.linspace(y1,y1,N)\n",
    "    z1Array = np.linspace(z1,z1,N)\n",
    "    \n",
    "    x2Array = np.repeat(x1Array[np.newaxis,:], N, 0)\n",
    "    y2Array = np.repeat(y1Array[np.newaxis,:], N, 0)\n",
    "    z2Array = np.repeat(z1Array[np.newaxis,:], N, 0)\n",
    "\n",
    "    xBio = BiotSavX(x2Array,y2Array,z2Array,phi2D,z2D)\n",
    "    yBio = BiotSavY(x2Array,y2Array,z2Array,phi2D,z2D)\n",
    "    zBio = BiotSavZ(x2Array,y2Array,z2Array,phi2D,z2D)\n",
    "    \n",
    "    #Calculating 3 components\n",
    "    Bx = ((hz*hphi)/9)*np.sum(xBio*weightArray)\n",
    "    By = ((hz*hphi)/9)*np.sum(yBio*weightArray)\n",
    "    Bz = ((hz*hphi)/9)*np.sum(zBio*weightArray)\n",
    "    \n",
    "    return (Bx,By,Bz)\n",
    "\n",
    "print(BiotSavComp(x1,y1,z1))"
   ]
  },
  {
   "cell_type": "markdown",
   "metadata": {},
   "source": [
    "## Part 6.3\n",
    "\n",
    "You should now be ready to calculate the force between two cylindrical magnets. Assume that the first magnet sits with its base in the $x-y$ plane and is centred on the z-axis, which is what we have calculated above.  Then, assume that a second, identical cylindrical magnet is placed directly above the first so that the bottom face of the top magnet is a \n",
    "distance $d$ above the top face of the bottom magnet (ie., the air gap between the magnets is d). You can the use the Lorentz force law to calculate the force exerted on the second magnet. The expression is given by:\n",
    "\n",
    "$\\Large \\vec F (d) = {\\displaystyle \\int_{D+d}^{2D+d} \\int_0^{2 \\pi}} \\vec K \\times \\vec B\\ R d\\phi dz$\n"
   ]
  },
  {
   "cell_type": "markdown",
   "metadata": {},
   "source": [
    "Here, $\\vec B$ is the magnetic field produced by the first magnet (on the bottom) on the surface of the second magnet, and $\\vec K$ is the current density on the surface of the second magnet (top). Note that the limits of $z$ go from $D+d$ to $2D+d$.  The expression for $\\vec K$ on the surface of the top magnet is:\n",
    "\n",
    "$\\Large \\vec K = -K (-\\sin\\phi~\\hat x + \\cos \\phi~\\hat y)$\n",
    "\n",
    "where the sign of $\\vec K$ has been changed compared to the first magnet. If not, the magnetic fields of the two magnets would be aligned, and the force would be attractive, which would not be very useful for magnetic levitation."
   ]
  },
  {
   "cell_type": "markdown",
   "metadata": {},
   "source": [
    "You will be able to use the code and functions above in the Jupyter Notebook (from 6.1 and 6.2), which will allow you to calculate the magnetic field produced by the bottom magnet at each location on the surface of the top magnet. On the surface (the outer round surface where the surface current is) of the top magnet, it is easy to show that $x = R\\cos(\\phi)$ and $y=R\\sin(\\phi)$, so the magnetic field is evaluated at $(R\\cos(\\phi), R\\sin(\\phi), z)$, where $0 \\leq \\phi \\leq 2\\pi$ and $D+d \\leq z \\leq 2D+d$. To evaluate this new integral, you can create the arrays using the techniques implemented above for the $\\phi$ and $z$ variables.  However, you may want to use a nested for loop to calculate each point by first calculating $\\vec B$ and then using that to calculate the contributing element to the force. <b> d = 0.005 m </b>"
   ]
  },
  {
   "cell_type": "code",
   "execution_count": 166,
   "metadata": {},
   "outputs": [
    {
     "name": "stdout",
     "output_type": "stream",
     "text": [
      "[ 1.70419234e-14 -1.87192336e-14  6.15487573e+02]\n"
     ]
    }
   ],
   "source": [
    "#Initial Values\n",
    "z1 = 0.01\n",
    "N = 11\n",
    "\n",
    "#Function to return the 3 force components\n",
    "def BioForce(d):\n",
    "    #h vals\n",
    "    hphi = 2*np.pi/(N-1)\n",
    "    hz = D/(N-1)\n",
    "    \n",
    "    #1D arrays\n",
    "    phi = np.linspace(0, 2*np.pi, N)\n",
    "    z = np.linspace(D+d, 2*D+d, N)\n",
    "    \n",
    "    #2D arrays\n",
    "    phi2D, z2D = np.meshgrid(phi,z)\n",
    "    \n",
    "    #Weighting array\n",
    "    weight = np.ones(N)\n",
    "    weight[1:N:2] = 4\n",
    "    weight[2:-2:2] = 2\n",
    "    w2D = np.outer(weight, weight)\n",
    "    \n",
    "    #Starting the calculation with nested for loops\n",
    "    Arr=np.ones((11,11,3))\n",
    "    for i in range(N):\n",
    "        for j in range(N):\n",
    "            #Calculating both B and K for each value as requested in loop\n",
    "            B = BiotSavComp(R*np.cos(phi[i]), R*np.sin(phi[i]), z[j])\n",
    "            Kv= -K*np.array([-np.sin(phi[i]), np.cos(phi[i]), 0], dtype = float)\n",
    "            #Performing the cross product\n",
    "            Arr[i,j] = R*np.cross(Kv,B)*w2D[i,j]\n",
    "    #Simpson's adjustment\n",
    "    Arr *= hphi*hz/9\n",
    "    return Arr.sum((0,1))\n",
    "        \n",
    "        \n",
    "print(BioForce(0.005))"
   ]
  },
  {
   "cell_type": "code",
   "execution_count": null,
   "metadata": {},
   "outputs": [],
   "source": []
  }
 ],
 "metadata": {
  "kernelspec": {
   "display_name": "Python 3",
   "language": "python",
   "name": "python3"
  },
  "language_info": {
   "codemirror_mode": {
    "name": "ipython",
    "version": 3
   },
   "file_extension": ".py",
   "mimetype": "text/x-python",
   "name": "python",
   "nbconvert_exporter": "python",
   "pygments_lexer": "ipython3",
   "version": "3.8.5"
  }
 },
 "nbformat": 4,
 "nbformat_minor": 4
}
