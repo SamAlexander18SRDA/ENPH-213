{
 "cells": [
  {
   "cell_type": "markdown",
   "metadata": {},
   "source": [
    "# ENPH 213 - Week 2 Lab\n",
    "In this lab, we will be working with Numerical Integration while continuing to develop your Python skills.\n",
    "\n",
    "There is an accompanying file (ENPH213_Lab2_Hysteresis-Data.csv) that should be downloaded to the same folder as this notebook.  When you are finished, please rename this notebook to LastName_ENPH213_Lab2, where LastName is your last name.  Submit that file to onQ."
   ]
  },
  {
   "cell_type": "markdown",
   "metadata": {},
   "source": [
    "## Part 1\n",
    "Load the data from \"ENPH213_Lab2_Hysteresis-Data.csv\", and plot the curve of v$_y$ as a function of v$_x$.  Before you being, open the file in a text editor so that you know the format of the data and can manipulate it properly."
   ]
  },
  {
   "cell_type": "code",
   "execution_count": 1,
   "metadata": {},
   "outputs": [
    {
     "data": {
      "image/png": "[encoded data removed]",
      "text/plain": [
       "<Figure size 432x288 with 1 Axes>"
      ]
     },
     "metadata": {
      "needs_background": "light"
     },
     "output_type": "display_data"
    }
   ],
   "source": [
    "#importing needed libraries\n",
    "import numpy as np\n",
    "from matplotlib import pyplot as plt\n",
    "%matplotlib inline\n",
    "\n",
    "#import the data from the file, and chop each column into the required array\n",
    "dataArray = np.loadtxt(\"ENPH213_Lab2_Hysteresis-Data.csv\", delimiter=',', skiprows=3)\n",
    "dataT = dataArray[:,0]\n",
    "dataVX = dataArray[:,1]\n",
    "dataVY = dataArray[:,2]\n",
    "\n",
    "#plot the data and label the axes\n",
    "plt.plot(dataVX, dataVY)\n",
    "plt.ylabel('V_y')\n",
    "plt.xlabel('V_x')\n",
    "plt.show()"
   ]
  },
  {
   "cell_type": "markdown",
   "metadata": {},
   "source": [
    "## Part 2\n",
    "In the Part 3, you will be asked to find the area between the two curves.  In a few sentences, first indicate what algorithm you would like to use and why.  Then, describe how you will get the area considering how the data is presented."
   ]
  },
  {
   "cell_type": "markdown",
   "metadata": {},
   "source": [
    "<b>Here, I have decided to go with Simpson's 1/3 rule, as it simplifies the amount of calculations that the compiler will have to perform on 1200+ data points. In addition, the 1 4 1 weighting makes it very simple to perform a quick calculation on each curve with a for loop of iteration length (len(x)). Finally, Simpson's rule allows me to calculate each area individually, by separating the two curves, and computing the area beneath one by one. </b>"
   ]
  },
  {
   "cell_type": "markdown",
   "metadata": {},
   "source": [
    "## Part 3\n",
    "Create a function myIntFunc(x,y) that calculates the area of a hysteresis curve, such as the one you plotted above, where x and y are the input vectors of the x- and y-axes, respectively.  Of note, comment on what form the vectors should take to have the function operate properly.  Have the function output the area. (Hint: my value was in the range 0.04 and 0.05)"
   ]
  },
  {
   "cell_type": "code",
   "execution_count": 41,
   "metadata": {},
   "outputs": [
    {
     "name": "stdout",
     "output_type": "stream",
     "text": [
      "0.04592247255000008\n"
     ]
    }
   ],
   "source": [
    "#Separate the data into two distinct sections, separated by increasing/decreasing (Point 334)\n",
    "\n",
    "#X Data\n",
    "VX1 = dataVX[0:334]\n",
    "VX2 = dataVX[-1:333:-1]\n",
    "\n",
    "#Y Data\n",
    "VY1 = dataVY[0:334]\n",
    "VY2 = dataVY[-1:333:-1]\n",
    "\n",
    "#Function to complete the simpsons rule\n",
    "def myIntFunc(x,y):\n",
    "    int = 0\n",
    "    for i in range(0,len(x)-2, 2): #Here, I want to loop through the array, and then leave the last 2 points (increment=2 because of Simpson's)\n",
    "        #Calculate h value here through an average\n",
    "        h = (x[i+2]-x[i])*0.5\n",
    "        #Start the summation using 1 4 1 rule here\n",
    "        int = int + (y[i]+4*y[i+1]+y[i+2])*(h/3)\n",
    "\n",
    "    #Return the val\n",
    "    return int\n",
    "\n",
    "\n",
    "#To note, this only calculates one of the two pieces at a time, so they need to be called individually\n",
    "A1 = myIntFunc(VX1, VY1)\n",
    "A2 = myIntFunc(VX2, VY2)\n",
    "\n",
    "#Finally, just take an absolute sum here to make sure that the area is positive (absolute makes it so that the area doesn't matter)\n",
    "finalArea = abs(A1-A2)\n",
    "\n",
    "print(finalArea)"
   ]
  },
  {
   "cell_type": "markdown",
   "metadata": {},
   "source": [
    "## Part 4\n",
    "\n",
    "One interesting function that appears often and exists as a integral function is the Guass Error Function or more commonly simply the Error Function.  It is written as erf(x) and has the form:\n",
    "\n",
    "$ erf(x) = \\frac{2}{\\sqrt\\pi} \\int_0^x e^{-z^2} dz$\n",
    "\n",
    "Write a function myErf(x, N) using Simpson's 1/3 Rule (itself a separate function) to evaluate the Error Function for an input x and a number of points to evaluate N.  \n",
    "\n",
    "Then evaluate myErf for x = 0.213, but determine how many points N are needed to be within 0.000 01 of the accepted value (Google calculated this for me: 0.2367589703)."
   ]
  },
  {
   "cell_type": "code",
   "execution_count": 2,
   "metadata": {},
   "outputs": [
    {
     "name": "stdout",
     "output_type": "stream",
     "text": [
      "N:  22969\n",
      "0.23674897053434665\n"
     ]
    }
   ],
   "source": [
    "#QUICK NOTE: This thing takes a long time to run (at least on my computer), so if it doesnt spit out numbers right away give it a few seconds...\n",
    "\n",
    "#Function inside the integral, this is called for simps\n",
    "def func(x):\n",
    "    return np.e**(-x**2)\n",
    "\n",
    "#Simpson's 1/3 function to evaluate an integral of a function (func(x)) with a value N chunks\n",
    "def simps(z1, z2, N):\n",
    "    #initiate the integral, and also the universal h value\n",
    "    int=0\n",
    "    h =(z2-z1)/N\n",
    "    \n",
    "    #loop to check every midpoint zi and fit a quadratic\n",
    "    for i in range(1,N-1,2):\n",
    "        zi = z1 + h*i\n",
    "        int = int + func(zi-h) + 4*func(zi) + func(zi+h)\n",
    "\n",
    "    #h/3 was factored out, so we need to account for it here\n",
    "    int = int*(h/3)\n",
    "    \n",
    "    #return the value of the integral\n",
    "    return int\n",
    "\n",
    "#Function to call in order to get the value for erf(x)\n",
    "def myErf(x,N):\n",
    "    return (2/(np.sqrt(np.pi)))*simps(0, x, N)\n",
    "\n",
    "actualVal = 0.2367589703\n",
    "\n",
    "#WHILE LOOP TO DETERMINE N VALUE WITHIN ERROR\n",
    "n=1 #This is a starting value, and will be iterated to find the right N value\n",
    "while actualVal-myErf(0.213,n) > 0.00001:\n",
    "    n = n+2 #N needs to be odd here, as it is Simpson's\n",
    "\n",
    "#Now, the N is set to the right value\n",
    "print(\"N: \", n)\n",
    "\n",
    "#Print the erf value we want\n",
    "print(myErf(0.213, n))"
   ]
  },
  {
   "cell_type": "markdown",
   "metadata": {},
   "source": [
    "## Part 5\n",
    "\n",
    "Using Simpson's Rule, calculate the following double integral:\n",
    "\n",
    "$ \\Omega  = \\int_{y=0}^{\\pi/2} \\int_{x=0}^{\\pi} \\sqrt{x+y} \\sin(x) \\cos(y) dx dy $\n",
    "\n",
    "Using N = 101 points in each direction, my calculation for $\\Omega$ was between 2.0 and 3.0.  Aim to do this question using a matrix of weighting coefficients.  Full marks will be given if no loops are used."
   ]
  },
  {
   "cell_type": "code",
   "execution_count": 52,
   "metadata": {},
   "outputs": [
    {
     "name": "stdout",
     "output_type": "stream",
     "text": [
      "2.8700438107223696\n"
     ]
    }
   ],
   "source": [
    "#Initialize important boundaries/numbers\n",
    "N = 101\n",
    "x1 = 0\n",
    "x2 = np.pi\n",
    "y1 = 0\n",
    "y2 = np.pi/2\n",
    "\n",
    "#Function being integrated\n",
    "def func(x,y):\n",
    "    return np.sqrt(x+y)*np.sin(x)*np.cos(y)\n",
    "\n",
    "#The two heights\n",
    "hx = (x2-x1)/(N-1)\n",
    "hy = (y2-y1)/(N-1)\n",
    "\n",
    "#Making 101 points in both dimensions\n",
    "xArray = np.linspace(x1, x2, N)\n",
    "yArray = np.linspace(y1, y2, N)\n",
    "\n",
    "#Making each array 2D to be able to multiply it with the weighting array\n",
    "y2D = np.repeat(yArray[np.newaxis,:], N, 0).transpose()\n",
    "x2D = np.repeat(xArray[np.newaxis,:], N, 0)\n",
    "\n",
    "#Making a 1D weighted Array\n",
    "FirstWeight = np.ones(N)\n",
    "FirstWeight[1:N:2] = 4\n",
    "FirstWeight[2:-2:2] = 2\n",
    "\n",
    "#Using np.outer to create a 2D Weighted Array\n",
    "weightArray = np.outer(FirstWeight, FirstWeight)\n",
    "\n",
    "#The formula for 2D Simpsons (As shown in the lecture slides)\n",
    "int = (hx*hy/9)*np.sum(func(xArray,yArray)*weightArray)\n",
    "print(int)"
   ]
  },
  {
   "cell_type": "markdown",
   "metadata": {},
   "source": [
    "## Part 6: See separate notebook\n",
    "\n",
    "## Acknowledgements\n",
    "\n",
    "Please comment on any help that you received from your group members or others concerning this Lab assignment."
   ]
  },
  {
   "cell_type": "markdown",
   "metadata": {},
   "source": [
    " "
   ]
  }
 ],
 "metadata": {
  "kernelspec": {
   "display_name": "Python 3",
   "language": "python",
   "name": "python3"
  },
  "language_info": {
   "codemirror_mode": {
    "name": "ipython",
    "version": 3
   },
   "file_extension": ".py",
   "mimetype": "text/x-python",
   "name": "python",
   "nbconvert_exporter": "python",
   "pygments_lexer": "ipython3",
   "version": "3.8.5"
  }
 },
 "nbformat": 4,
 "nbformat_minor": 4
}
