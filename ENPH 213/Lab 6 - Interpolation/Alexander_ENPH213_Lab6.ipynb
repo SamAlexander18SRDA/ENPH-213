{
 "cells": [
  {
   "cell_type": "markdown",
   "metadata": {},
   "source": [
    "# ENPH 213 - Week 6 Lab\n",
    "\n",
    "In this lab, we will be working on interpolating between finite data sets using a variety of different methods while continuing to develop your Python skills.\n",
    "\n",
    "When you are finished, please rename this notebook to LastName_ENPH213_Lab6, where LastName is your last name.  Submit that file to onQ.  Also, include your Lab4.py file (or similar) to ensure that the notebook can run without error.\n",
    "\n",
    "For marking Parts 1-4 will be marked together (Weighted out of 10) and Part 5 will be marked separately (Weighted out of 5)."
   ]
  },
  {
   "cell_type": "markdown",
   "metadata": {},
   "source": [
    "## Part 1\n",
    "\n",
    "Consider the data set consisting of the following $x$-values\n",
    "\n",
    "0.5, 2.6, 3.8, 4.7, 5.6, 7.1, 8.9\n",
    "\n",
    "and the corresponding $y$-values\n",
    "\n",
    "0.01963664, 0.07507309, 0.23405139, 0.29202742, 0.13045487, 0.03839685, 0.01497929\n",
    "\n",
    "Here in Part 1, you will interpolate the data using a polynomial.  Start by ensuring that you know what order of polynomial you should use.  Then, create the matrix that you need to diagonalize, and then call your BackSub(A, b) function from Lab 4 to solve for the polynomial coefficients.\n",
    "\n",
    "For output, plot the interpolated function from $ x = $ 0 to 9.5, along with the points from the data set.  As well, output the interpolated values for the following $x$-values:\n",
    "\n",
    "1.1, 2.2, 3.3, 4.4, 5.5, 6.6, 7.7, 8.8\n",
    "\n",
    "\n",
    "**Note: You will again need your BackSub(A,b) function from Lab 4.  Place the saved Lab4.py file in the same directory as this notebook, and use \"from Lab4 import BackSub\".  Submit the Lab4.py file with this notebook so that it can run when refreshed before marking.**"
   ]
  },
  {
   "cell_type": "code",
   "execution_count": 6,
   "metadata": {},
   "outputs": [
    {
     "data": {
      "image/png": "[encoded data removed]",
      "text/plain": [
       "<Figure size 432x288 with 1 Axes>"
      ]
     },
     "metadata": {
      "needs_background": "light"
     },
     "output_type": "display_data"
    },
    {
     "name": "stdout",
     "output_type": "stream",
     "text": [
      "Desired Values:\n",
      "[ 0.39100478  0.11685285  0.14257795  0.29797831  0.15497775 -0.03256824\n",
      "  0.27578206  0.17655975]\n"
     ]
    }
   ],
   "source": [
    "import numpy as np\n",
    "from matplotlib import pyplot as plt\n",
    "\n",
    "#Dataset Values\n",
    "x = np.array([0.5, 2.6, 3.8, 4.7, 5.6, 7.1, 8.9])\n",
    "y = np.array([[0.01963664], [0.07507309], [0.23405139], [0.29202742], [0.13045487], [0.03839685], [0.01497929]])\n",
    "\n",
    "#Use a polynomial of size len(x) (essentially 0:N-1 of the dataset)\n",
    "#Gotta create the x array and y array first\n",
    "xArray = np.meshgrid(x,x.transpose())[1]\n",
    "\n",
    "#Exponentiate\n",
    "for i in range(0,len(x)):\n",
    "    xArray[:,i] = np.power(xArray[:,i],i)\n",
    "\n",
    "yArray = y\n",
    "\n",
    "\n",
    "#Now we have the x and y arrays that we want (of size 0:N-1)\n",
    "#Now we need to use np.linalg.solve to figure out the coefficients of the 0:N-1 polynomial\n",
    "Coeff = np.linalg.solve(xArray,yArray)\n",
    "\n",
    "def Polynomial(xVal):\n",
    "    y = np.zeros(len(xVal))\n",
    "    for i in range(len(xVal)):\n",
    "        y[i] = Coeff[0]\n",
    "        for j in range(1,len(x)):\n",
    "            y[i] += Coeff[j]*np.power(xVal[i],j)\n",
    "            \n",
    "    return y\n",
    "\n",
    "#Now we gotta print out the graph with the points and the polynomial fit\n",
    "xPlot = np.linspace(0,9.5,1000)\n",
    "yPlot = Polynomial(xPlot) \n",
    "\n",
    "#Plot all that sauce\n",
    "plt.figure(0)\n",
    "plt.plot(x,y,'.')\n",
    "plt.plot(xPlot,yPlot,'r')\n",
    "plt.xlabel('x')\n",
    "plt.ylabel('y')\n",
    "plt.ylim(-0.3,0.5)\n",
    "plt.show()\n",
    "\n",
    "#Time to output the desired interpolated values\n",
    "xInter = np.array([1.1, 2.2, 3.3, 4.4, 5.5, 6.6, 7.7, 8.8])\n",
    "yInter = Polynomial(xInter)\n",
    "       \n",
    "#Plot the values we want!\n",
    "print(\"Desired Values:\")\n",
    "print(yInter)"
   ]
  },
  {
   "cell_type": "markdown",
   "metadata": {},
   "source": [
    "# Part 2\n",
    "\n",
    "Use the same (x,y) dataset from Part 1.\n",
    "\n",
    "Here in Part 2, you will interpolate the data using Lagrange functions.  Start by ensuring that you know what order of polynomial you should use.  Then, create a function that can calculate the Lagrange function at a particular $x$ and $k$.  Use that function with appropriate coefficients in a sum to calculate the requested output.\n",
    "\n",
    "For output, plot the interpolated function from 0 to 9.5, along with the points from the data set.  As well, output the interpolated values for the following $x$-values:\n",
    "\n",
    "1.1, 2.2, 3.3, 4.4, 5.5, 6.6, 7.7, 8.8"
   ]
  },
  {
   "cell_type": "code",
   "execution_count": 7,
   "metadata": {},
   "outputs": [
    {
     "data": {
      "image/png": "[encoded data removed]",
      "text/plain": [
       "<Figure size 432x288 with 1 Axes>"
      ]
     },
     "metadata": {
      "needs_background": "light"
     },
     "output_type": "display_data"
    },
    {
     "name": "stdout",
     "output_type": "stream",
     "text": [
      "Desired Values:\n",
      "[ 0.39100478  0.11685285  0.14257795  0.29797831  0.15497775 -0.03256824\n",
      "  0.27578206  0.17655975]\n"
     ]
    }
   ],
   "source": [
    "#Here, we need langrange functions from L0->Ln-1\n",
    "#This lagrange polynomial will be a sum of len(x) lagrange functions\n",
    "#The lagrange polynomial will have a degree of n-1\n",
    "\n",
    "#Takes in an array of given x values, xp (the evaluation point) and a number k (len(x)-1)\n",
    "def Lagrange(x,xp,k):\n",
    "    yp = 0\n",
    "    LagFuncs = np.ones(k)\n",
    "    for i in range(k+1):\n",
    "        p=1\n",
    "        for j in range(k+1):\n",
    "            if j != i:\n",
    "                p *= (xp-x[j])/(x[i]-x[j])\n",
    "        yp += y[i]*p\n",
    "    return yp\n",
    "\n",
    "#Get the line of interpolated function values\n",
    "yLag = Lagrange(x,xPlot,len(x)-1)\n",
    "\n",
    "#Plot all that funky stuff\n",
    "plt.figure(1)\n",
    "plt.plot(x,y,'.')\n",
    "plt.plot(xPlot,yLag,'r')\n",
    "plt.xlabel('x')\n",
    "plt.ylabel('y')\n",
    "plt.ylim(-0.3,0.5)\n",
    "plt.show()\n",
    "\n",
    "#Time to output the desired interpolated values\n",
    "yInterPrime = Lagrange(x,xInter,len(x)-1)\n",
    "       \n",
    "#PRINT!!!    \n",
    "print(\"Desired Values:\")\n",
    "print(yInterPrime)"
   ]
  },
  {
   "cell_type": "markdown",
   "metadata": {},
   "source": [
    "# Part 3\n",
    "\n",
    "Use the same (x,y) dataset from Part 1.\n",
    "\n",
    "Here in Part 3, you will interpolate the data using the cubic Spline method.  Start by ensuring that you know what size of matrix you should use (this is particularly important for this method).  Then, poplulate the matrix with the tri-diagonal elements.  Once completed, use your BackSub(A, b) function from Lab 4 to solve for the polynomial coefficients.  Use the coefficients to calculate the interpolated function in the different regions.\n",
    "\n",
    "As above, plot the interpolated function from 0 to 9.5, along with the points from the data set. Ensure that all output is consistent with the method.  As well, output the interpolated values for the following $x$-values:\n",
    "\n",
    "1.1, 2.2, 3.3, 4.4, 5.5, 6.6, 7.7, 8.8"
   ]
  },
  {
   "cell_type": "code",
   "execution_count": 8,
   "metadata": {},
   "outputs": [
    {
     "data": {
      "image/png": "[encoded data removed]",
      "text/plain": [
       "<Figure size 432x288 with 1 Axes>"
      ]
     },
     "metadata": {
      "needs_background": "light"
     },
     "output_type": "display_data"
    },
    {
     "name": "stdout",
     "output_type": "stream",
     "text": [
      "Desired Values:\n",
      "[0.01589727 0.04369464 0.16200059 0.29675857 0.14924057 0.04414076\n",
      " 0.03256115 0.01657488]\n"
     ]
    }
   ],
   "source": [
    "#We want to represent the second dereivative as a linear value (Use a lagrange polynomial)\n",
    "\n",
    "#Create a n-2 element tridiagonal matrix (c0, cn-1 = 0 already)\n",
    "M = np.zeros(len(x)-2)\n",
    "M = np.meshgrid(M,M)[0]\n",
    "b = np.zeros((len(M),1))\n",
    "\n",
    "#Fill the matrix M with the tridiagonal content\n",
    "for i in range(len(M)):\n",
    "    M[i,i] = 2*(x[i+2]-x[i])\n",
    "    if (i!=len(M)-1): M[i,i+1]=x[i+2]-x[i+1]\n",
    "    if (i!=0): M[i,i-1]=x[i+1]-x[i]\n",
    "        \n",
    "#Create the b matrix using the equation from the notes\n",
    "for i in range(1,len(b)+1):\n",
    "    b[i-1,0] = 6*(((y[i+1]-y[i])/(x[i+1]-x[i]))-((y[i]-y[i-1])/(x[i]-x[i-1])))\n",
    "\n",
    "#Solve for the c coefficients\n",
    "c = np.linalg.solve(M,b)\n",
    "\n",
    "\n",
    "#Append 0 to front and back (natural spline)\n",
    "c = c.transpose()\n",
    "C = np.append(np.array([0]),c)\n",
    "C = np.append(C,np.array([0]))\n",
    "\n",
    "#Function that returns the spline-interpolated y value using the equation from the notes\n",
    "def Spline(xArr,k):\n",
    "    res = 0\n",
    "    \n",
    "    #Terms 1 and 2\n",
    "    res += (y[k-1]*((x[k]-xArr)/(x[k]-x[k-1])))+(y[k]*((xArr-x[k-1])/(x[k]-x[k-1]))) \n",
    "    \n",
    "    #Term 3\n",
    "    res-= ((C[k-1]/6)*(((x[k]-xArr)*(x[k]-x[k-1]))-(((x[k]-xArr)**3)/(x[k]-x[k-1]))))\n",
    "    \n",
    "    #Term 4\n",
    "    res-= ((C[k]/6)*(((xArr-x[k-1])*(x[k]-x[k-1]))-(((xArr-x[k-1])**3)/(x[k]-x[k-1]))))\n",
    "    \n",
    "    return res\n",
    "\n",
    "\n",
    "#This function will call spline with the proper k value (you need to find the right splined polynomial to call in the Spline Function)\n",
    "def CalcCubicSpline(xVal):\n",
    "    yVal = np.zeros(len(xVal))\n",
    "    for i in range(len(xVal)):\n",
    "        j = 0\n",
    "        while (xVal[i] > x[j]):\n",
    "            j+=1\n",
    "        yVal[i] = Spline(xInter[i],j)\n",
    "    return yVal\n",
    "    \n",
    "    \n",
    "#This loops through and does each chunk of the interpolated function (between two x points)\n",
    "for i in range(1,len(x)):\n",
    "    xVals = np.linspace(x[i-1],x[i],100)\n",
    "    Inter = Spline(xVals,i)\n",
    "    plt.plot(xVals,Inter)\n",
    "\n",
    "#Plot our given points (these should occur right on the colour change between polynomials)\n",
    "plt.plot(x,y,'.')\n",
    "plt.xlabel(\"x\")\n",
    "plt.ylabel(\"y\")\n",
    "\n",
    "plt.show()  \n",
    "\n",
    "#Print Desired Values\n",
    "yInts = CalcCubicSpline(xInter)\n",
    "\n",
    "#Now, just print the array!\n",
    "print(\"Desired Values:\")    \n",
    "print(yInts)  "
   ]
  },
  {
   "cell_type": "markdown",
   "metadata": {},
   "source": [
    "# Part 4\n",
    "\n",
    "Use the same (x,y) dataset from Part 1.\n",
    "\n",
    "Here in Part 4, you will interpolate the data using a Fourier series / trigonometric functions.  Start by ensuring that you know what size of matrix you should use and the anticipated harmonics.  As well, you must estimate a periodicity for the data points so that you can specify a reasonable wavelength and wavenumber k to include in the functions.  Then, poplulate the matrix with the appropriate values from the trigonometric relations.  Once completed, call use your BackSub(A, b) function from Lab 4 to solve for the polynomial coefficients.  Once determined, the interpolated function can be calculated by the sum of the finite Fourier series.\n",
    "\n",
    "For output, plot the interpolated function from $ x = $ 0 to 9.5, along with the points from the data set.  As well, output the interpolated values for the following $x$-values:\n",
    "\n",
    "1.1, 2.2, 3.3, 4.4, 5.5, 6.6, 7.7, 8.8\n",
    "\n",
    "**QUESTION: Describe how you chose your value for the wavelength / wavenumber.**"
   ]
  },
  {
   "cell_type": "code",
   "execution_count": 12,
   "metadata": {},
   "outputs": [
    {
     "data": {
      "image/png": "[encoded data removed]",
      "text/plain": [
       "<Figure size 432x288 with 1 Axes>"
      ]
     },
     "metadata": {
      "needs_background": "light"
     },
     "output_type": "display_data"
    },
    {
     "name": "stdout",
     "output_type": "stream",
     "text": [
      "Desired Values:\n",
      "[ 0.5210966   1.48836311 -0.8791892   0.68995814  0.01504305  0.18922578\n",
      "  1.36532706  0.38191524]\n"
     ]
    }
   ],
   "source": [
    "#Here, via inspection of the graph in part 3, the best wavelength fell in the range of ~2pi\n",
    "#This means that k=2pi/lambda=2pi/2pi=1\n",
    "#This value actually doesnt change anything (n*1 = n), but I included it for variance and testing\n",
    "k=1\n",
    "\n",
    "#2D array of length n x n to create the distinct trig matrix\n",
    "a = np.zeros((len(x),len(y)))\n",
    "\n",
    "#Filling it with the pattern as shown in the lecture slides\n",
    "for i in range(1,len(x)-3):\n",
    "    for j in range(len(x)):\n",
    "        a[j,0]=1/2\n",
    "        a[j,2*i-1]=np.cos(i*x[j]*k)\n",
    "        a[j,2*i]=np.sin(i*k*x[j])\n",
    "        \n",
    "#Solve for the a coefficients\n",
    "result = np.linalg.solve(a,y)\n",
    "\n",
    "#Function that takes in an x value and returns the interpolated y value using the a array\n",
    "def Fourier(xSub):\n",
    "    y = np.zeros(len(xSub))\n",
    "    \n",
    "    #First term\n",
    "    y+=result[0]/2 \n",
    "    \n",
    "    #Cos terms\n",
    "    count = 1\n",
    "    for i in range(1,len(x),2):\n",
    "        y+=result[i]*np.cos(k*count*xSub)\n",
    "        count+=1\n",
    "    \n",
    "    #Sin terms\n",
    "    count = 1\n",
    "    for j in range(2,len(x),2):\n",
    "        y+=result[j]*np.sin(k*count*xSub)\n",
    "        count+=1\n",
    "    \n",
    "    return y\n",
    "\n",
    "#Create the plotted line\n",
    "yPlot = Fourier(xPlot)\n",
    "\n",
    "#Plot both\n",
    "plt.figure(3)\n",
    "plt.plot(x,y,'.')\n",
    "plt.plot(xPlot,yPlot)\n",
    "plt.xlabel('x')\n",
    "plt.ylabel('y')\n",
    "\n",
    "plt.show()\n",
    "\n",
    "#Calculate the values that were asked for\n",
    "yDesired = Fourier(xInter)\n",
    "\n",
    "#Print!\n",
    "print(\"Desired Values:\")\n",
    "print(yDesired)"
   ]
  },
  {
   "cell_type": "markdown",
   "metadata": {},
   "source": [
    "# Part 5\n",
    "\n",
    "None of the interpolation methods was particularly perfect, which is surprising as the function is a fairly simple, symmetric one -- a Lorentzian\n",
    "\n",
    "$\\large Lorentzian(x) = \\frac{1}{\\pi} \\frac{\\Gamma}{(x-x_0)^2 + \\Gamma^2}$\n",
    "\n",
    "The actual, calculated values for the $x$-values\n",
    "\n",
    "1.1, 2.2, 3.3, 4.4, 5.5, 6.6, 7.7, 8.8\n",
    "\n",
    "are\n",
    "\n",
    "0.02677123, 0.05450512, 0.14403162, 0.31830989, 0.14403162, 0.05450512, 0.02677123, 0.01563408\n",
    "\n",
    "\n",
    "Discuss in a short paragraph which interpolation method you find to be the best choice for this Lorentzian function.  You may consider all aspects of the process such as error, usability, time to code, time to run, etc, and not simply the graphical output.  Some calculations to support your answer would also be reasonable."
   ]
  },
  {
   "cell_type": "code",
   "execution_count": 16,
   "metadata": {},
   "outputs": [
    {
     "name": "stdout",
     "output_type": "stream",
     "text": [
      "ERROR!!!\n",
      "Polynomial Method:\n",
      "0.9563225293625573\n",
      "\n",
      "\n",
      "Lagrange Method:\n",
      "0.9563225293621658\n",
      "\n",
      "\n",
      "Cubic Spline Method:\n",
      "0.08350876132299781\n",
      "\n",
      "\n",
      "Fourier Method:\n",
      "5.291598650337609\n",
      "\n",
      "\n",
      "TIMES!!!\n",
      "Polynomial Method:\n",
      "265 µs ± 33.5 µs per loop (mean ± std. dev. of 7 runs, 1000 loops each)\n",
      "\n",
      "\n",
      "Lagrange Method:\n",
      "211 µs ± 17.8 µs per loop (mean ± std. dev. of 7 runs, 1000 loops each)\n",
      "\n",
      "\n",
      "Cubic Spline Method:\n",
      "161 µs ± 7.53 µs per loop (mean ± std. dev. of 7 runs, 10000 loops each)\n",
      "\n",
      "\n",
      "Fourier Method:\n",
      "31.4 µs ± 1.99 µs per loop (mean ± std. dev. of 7 runs, 10000 loops each)\n",
      "\n",
      "Therefore, while the fourier method is the fastest, it is wildly inaccurate. The best results were in the cubic spline, which was fast AND accurate.\n",
      "While taking a longer time to code (as a result of more complexity), the cubic spline method is the best fit for the curve!\n",
      "\n"
     ]
    }
   ],
   "source": [
    "'''\n",
    "---ERROR---\n",
    "The Fourier method took the most \"liberty\" with the portions of the function that were not directly\n",
    "given (the large white spaces where the interpolation reigns), but did meet every point. The need of\n",
    "a k value introduced a significant amount of \"speculative\" error. \n",
    "\n",
    "The first two methods were moderately accurate in the populated areas, but the values given in the\n",
    "xInter array were VERY skewed. \n",
    "\n",
    "The cubic spline method most resembled the shape of the Lorentzian, and gave values that were\n",
    "moderately close to the expected given above.\n",
    "\n",
    "Error calculations (difference between expected and calculated) for each method are shown below,\n",
    "and are graphed to show the accuracy of each\n",
    "\n",
    "---Usability---\n",
    "The first two were moderately straight-forward, as they just required the passing of a function.\n",
    "The cubic spline needed the values to be \"fit\" to the proper area between points, which required the\n",
    "use of a while loop. The final method also only required the passing of a function with the x values,\n",
    "which was quite useable.\n",
    "\n",
    "---Time to Code---\n",
    "The first two methods were relatively quick, as they required an easy algorithm of only a few lines that outputted a simple y value.\n",
    "The Lagrange polynomial took some work, but once a general algorithm was written, it was a universal working function. \n",
    "The cubic spline by FAR took the most time to code, as the tridiagonal matrix was complicated and specific, and the subbing in of values took\n",
    "multiple more steps than any other method. \n",
    "The Fourier series required moderate work to complete, but it was easily generalized in functions to work with all sizes of arrays.\n",
    "\n",
    "---Time to Run---\n",
    "Timing is done below, and the numbers will be displayed to show which ones were the quickest/slowest\n",
    "'''\n",
    "\n",
    "#ERROR CALCULATIONS!!!\n",
    "xAccept = np.array([1.1, 2.2, 3.3, 4.4, 5.5, 6.6, 7.7, 8.8])\n",
    "yAccept = np.array([0.02677123, 0.05450512, 0.14403162, 0.31830989, 0.14403162, 0.05450512, 0.02677123, 0.01563408])\n",
    "\n",
    "print(\"ERROR!!!\")\n",
    "\n",
    "print(\"Polynomial Method:\")\n",
    "Error1 = np.sum(np.abs(Polynomial(xAccept)-yAccept))\n",
    "print(Error1)\n",
    "print('\\n')\n",
    "\n",
    "print(\"Lagrange Method:\")\n",
    "Error2 = np.sum(np.abs(Lagrange(x,xAccept,len(x)-1)-yAccept))\n",
    "print(Error2)\n",
    "print('\\n')\n",
    "\n",
    "print(\"Cubic Spline Method:\")\n",
    "Error3 = np.sum(np.abs(CalcCubicSpline(xAccept)-yAccept))\n",
    "print(Error3)\n",
    "print('\\n')\n",
    "\n",
    "print(\"Fourier Method:\")\n",
    "Error4 = np.sum(np.abs(Fourier(xAccept)-yAccept))\n",
    "print(Error4)\n",
    "print('\\n')\n",
    "\n",
    "\n",
    "#Time to calculate runtime!\n",
    "xTest = xInter\n",
    "\n",
    "print(\"TIMES!!!\")\n",
    "#NOW WE RACE!!!\n",
    "print(\"Polynomial Method:\")\n",
    "%timeit Polynomial(xAccept)\n",
    "\n",
    "print('\\n')\n",
    "\n",
    "print(\"Lagrange Method:\")\n",
    "%timeit Lagrange(x,xAccept,len(x)-1)\n",
    "\n",
    "print('\\n')\n",
    "\n",
    "print(\"Cubic Spline Method:\")\n",
    "%timeit CalcCubicSpline(xAccept)\n",
    "\n",
    "print('\\n')\n",
    "\n",
    "print(\"Fourier Method:\")\n",
    "%timeit Fourier(xAccept)\n",
    "\n",
    "print('''\n",
    "Therefore, while the fourier method is the fastest, it is wildly inaccurate. The best results were in the cubic spline, which was fast AND accurate.\n",
    "While taking a longer time to code (as a result of more complexity), the cubic spline method is the best fit for the curve!\n",
    "''')"
   ]
  },
  {
   "cell_type": "markdown",
   "metadata": {},
   "source": [
    "## Acknowledgements\n",
    "\n",
    "Please comment on any help that you received from your group members or others concerning this Lab assignment."
   ]
  },
  {
   "cell_type": "markdown",
   "metadata": {},
   "source": []
  }
 ],
 "metadata": {
  "kernelspec": {
   "display_name": "Python 3",
   "language": "python",
   "name": "python3"
  },
  "language_info": {
   "codemirror_mode": {
    "name": "ipython",
    "version": 3
   },
   "file_extension": ".py",
   "mimetype": "text/x-python",
   "name": "python",
   "nbconvert_exporter": "python",
   "pygments_lexer": "ipython3",
   "version": "3.8.5"
  }
 },
 "nbformat": 4,
 "nbformat_minor": 4
}
