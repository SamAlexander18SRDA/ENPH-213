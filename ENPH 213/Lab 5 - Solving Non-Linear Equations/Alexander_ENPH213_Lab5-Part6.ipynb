{
 "cells": [
  {
   "cell_type": "markdown",
   "metadata": {},
   "source": [
    "# ENPH 213 - Week 5 Lab - Part 6\n",
    "\n",
    "In this lab, we will be working on solving non-linear equations using a variety of methods while continuing to develop your Python skills.\n",
    "\n",
    "When you are finished, please rename this notebook to LastName_ENPH213_Lab5-Part6, where LastName is your last name.  Submit that file to onQ along with the notebook for Parts 1-5. \n",
    "\n",
    "For marking Parts 1-4 will be marked together (Weighted out of 10) and Parts 5 and 6 will be marked together (Weighted out of 5)."
   ]
  },
  {
   "cell_type": "markdown",
   "metadata": {},
   "source": [
    "# Part 6\n",
    "\n",
    "Find the roots to following set of functions\n",
    "\n",
    "$\\Large f_1(x,y,z) = 2x - y \\cos z - 3 \\\\\n",
    "\\Large f_2(x,y,z) = x^2 - 25(y - 2)^2 + \\sin z - \\frac{\\pi}{10} \\\\\n",
    "\\Large f_3(x,y,z) = 7xe^y - 17z + 8\\pi$\n",
    "\n",
    "To solve this system of functions, use the generalized Newton's Method as discussed in class.  Use the Jacobian Matrix, and construct it by analytically/symbollically calculating the partial derivatives for its elements.  Iterate the solutions of the matrix equations by adding the evaluated steps back into the previous guess values for $x$, $y$, and $z$.  For this question, you may fulfill the iteration sensitivity when either the total of the step components or the total of the residual function values acheives an error less than 0.00001.\n",
    "\n",
    "Provide the determine roots of the set of functions as well as the number of iterations needed.\n",
    "\n",
    "**Note:** You will need the $BackSub(A, b)$ and related functions from Lab 4 to perform the matrix calculations.  To do this, from your Lab 4 Jupyter notebook, select \"File-->Download as-->Python (.py)\".  Save this file as \"Lab4.py\" in the directory of this notebook.  Then below, add the line \"from Lab4 import BackSub\".  It may load and perform all computations, but you will not have access to your previous functions in this notebook.  If you click on the margin beside this cell, it will reduce in size.  If you double click, it should completely collapse."
   ]
  },
  {
   "cell_type": "code",
   "execution_count": 1,
   "metadata": {},
   "outputs": [
    {
     "name": "stdout",
     "output_type": "stream",
     "text": [
      "x,y,z = [2.25095747 1.57832376 5.97074783]\n",
      "This took 9 iterations!\n"
     ]
    }
   ],
   "source": [
    "\n",
    "import numpy as np\n",
    "\n",
    "#Lambda functions\n",
    "f1 = lambda x,y,z: 2*x-y*np.cos(z)-3\n",
    "f2 = lambda x,y,z: x**2-25*(y-2)**2+np.sin(z)-np.pi/10\n",
    "f3 = lambda x,y,z: 7*x*np.exp(y)-17*z+8*np.pi\n",
    "\n",
    "#Time to make the jacobian of the derivatives!\n",
    "#f1\n",
    "f1x = lambda x,y,z: 2\n",
    "f1y = lambda x,y,z: np.cos(z)\n",
    "f1z = lambda x,y,z: -y*np.sin(z)\n",
    "\n",
    "#f2\n",
    "f2x = lambda x,y,z: 2*x\n",
    "f2y = lambda x,y,z: -50*y + 100\n",
    "f2z = lambda x,y,z: np.cos(z)\n",
    "\n",
    "#f3\n",
    "f3x = lambda x,y,z: 7*np.exp(y)\n",
    "f3y = lambda x,y,z: 7*x*np.exp(y)\n",
    "f3z = lambda x,y,z: -17\n",
    "\n",
    "\n",
    "#Time to start the newton shenanigans!\n",
    "\n",
    "#Jacobian\n",
    "Jac = np.array([[f1x,f1y,f1z],\n",
    "                [f2x,f2y,f2z],\n",
    "                [f3x,f3y,f3z]])\n",
    "\n",
    "#Function Array\n",
    "Func = np.array([f1,f2,f3])\n",
    "\n",
    "\n",
    "#Function to solve the array (A is the matrix and x is the 3 part array of x,y,z)\n",
    "#This is basically an adjusted BackSub, which will only use 2D and 1D arrays\n",
    "#I hope this helps with marking, as you wont need to use the imported BackSub!\n",
    "def NewtonFunc2D(A,x):\n",
    "    res = np.zeros(A.shape)\n",
    "    \n",
    "    #For Jacobian\n",
    "    if (len(A.shape)==2):\n",
    "        for j in range(A.shape[0]):\n",
    "            for k in range(A.shape[1]):\n",
    "                res[j,k] = A[j,k](x[0], x[1], x[2])\n",
    "    \n",
    "    #For the Function Array (1D)\n",
    "    elif (len(A.shape)==1):\n",
    "        for i in range(A.shape[0]):\n",
    "            res[i] = A[i](x[0],x[1],x[2])\n",
    "    \n",
    "    #Return the resultant array\n",
    "    return res\n",
    "\n",
    "#Starting val and the counter\n",
    "x = [1,1,1]\n",
    "count = 0\n",
    "\n",
    "#Loops until the error condition is met\n",
    "while (abs(f1(x[0],x[1],x[2]))+abs(f2(x[0],x[1],x[2]))+abs(f3(x[0],x[1],x[2]))>0.00001):\n",
    "    #BackSub!\n",
    "    Jaco =  NewtonFunc2D(Jac,x)\n",
    "    #BackSub!\n",
    "    val = -NewtonFunc2D(Func,x)\n",
    "    \n",
    "    #Find the new h value\n",
    "    h = np.dot(np.linalg.inv(Jaco),val)\n",
    "    \n",
    "    #Iterate x by h\n",
    "    x += h\n",
    "    \n",
    "    #Iterate count\n",
    "    count += 1\n",
    "     \n",
    "\n",
    "#Now we have the values we want!\n",
    "print(\"x,y,z =\", x)\n",
    "print(\"This took\", count,\"iterations!\")\n",
    "    "
   ]
  },
  {
   "cell_type": "markdown",
   "metadata": {},
   "source": [
    "## Acknowledgements\n",
    "\n",
    "Please comment on any help that you received from your group members or others concerning this Lab assignment."
   ]
  },
  {
   "cell_type": "markdown",
   "metadata": {},
   "source": []
  }
 ],
 "metadata": {
  "kernelspec": {
   "display_name": "Python 3",
   "language": "python",
   "name": "python3"
  },
  "language_info": {
   "codemirror_mode": {
    "name": "ipython",
    "version": 3
   },
   "file_extension": ".py",
   "mimetype": "text/x-python",
   "name": "python",
   "nbconvert_exporter": "python",
   "pygments_lexer": "ipython3",
   "version": "3.8.5"
  }
 },
 "nbformat": 4,
 "nbformat_minor": 4
}
