{
 "cells": [
  {
   "cell_type": "markdown",
   "metadata": {},
   "source": [
    "# ENPH 213 - Week 5 Lab\n",
    "\n",
    "In this lab, we will be working on solving non-linear equations using a variety of methods while continuing to develop your Python skills.\n",
    "\n",
    "When you are finished, please rename this notebook to LastName_ENPH213_Lab5, where LastName is your last name.  Submit that file to onQ.  Please be aware of a second notebook for Part 6.\n",
    "\n",
    "For marking Parts 1-4 will be marked together (Weighted out of 10) and Parts 5 and 6 will be marked together (Weighted out of 5)."
   ]
  },
  {
   "attachments": {
    "circuit.jpg": {
     "image/jpeg": "[encoded data removed]"
    }
   },
   "cell_type": "markdown",
   "metadata": {},
   "source": [
    "## Part 1\n",
    "\n",
    "![circuit.jpg](attachment:circuit.jpg)\n",
    "\n",
    "The impedance (Z) of a parallel RLC circuit, such as the one shown, can be represented as\n",
    "\n",
    "$\\Large \\frac{1}{Z} = \\sqrt{\\frac{1}{R^2} + (\\omega C - \\frac{1}{\\omega L})^2 }$\n",
    "\n",
    "where R is the resistance, $C$ is the capacitance, and $L$ is the inductance.  Of note, the capacitance and inductance contribute a frequency ($\\omega$) dependent contribution to $Z$.\n",
    "\n",
    "Create a function $MyBisect(f, xa, xb)$ that can determine which frequency $\\omega$ will give an impedance of $100~\\Omega$ and uses the Bisection Method.  Use the following values for $R = 200~\\Omega$, $L = 0.4$ H, and $C = 3 \\times 10^{-6}$ F.  Determine $\\omega$ to within a range of 0.00001, and justify your choice of $xa$ and $xb$.  Print the determined value for $\\omega$ and the number of iterations it took to acheive it."
   ]
  },
  {
   "cell_type": "code",
   "execution_count": 103,
   "metadata": {},
   "outputs": [
    {
     "name": "stdout",
     "output_type": "stream",
     "text": [
      "Found the value within error after 9 iterations!\n",
      "Value of w: 264.75097656\n"
     ]
    }
   ],
   "source": [
    "#Import Libraries\n",
    "import numpy as np\n",
    "\n",
    "#Define Values\n",
    "R = 200\n",
    "L = 0.4\n",
    "C = 3*(10**-6)\n",
    "Z=100\n",
    "\n",
    "#This function will perform a bisection polynomial solution... Needs two points and a function, and will iterate until either the exact root is found or a x value within 0.00001 of the root.\n",
    "def MyBisect(f,xa,xb):\n",
    "    \n",
    "    #Iteration count\n",
    "    count = 0\n",
    "    \n",
    "    xmid = (xb+xa)/2\n",
    "    \n",
    "    #This while loop will execute until the max error (space between the two bisected points) is less than the accepted max\n",
    "    while np.abs(f(xmid)) > 0.00001:\n",
    "        \n",
    "        #Calculate the midpoint\n",
    "        xmid = (xb+xa)/2\n",
    "        \n",
    "        #First case, need to adjust the top down\n",
    "        if f(xa)*f(xmid)<0:\n",
    "            xb = xmid\n",
    "            count+=1\n",
    "            \n",
    "        #Second case, need to bring the bottom up\n",
    "        elif f(xb)*f(xmid) < 0:\n",
    "            xa = xmid\n",
    "            count+=1\n",
    "        \n",
    "        #Just in case we get the actual zero as the mid\n",
    "        #elif (f(xmid)==0):\n",
    "            #return xmid\n",
    "        \n",
    "        #There are NO Zeros contained between the points, abort mission\n",
    "        else:\n",
    "            print(\"Bisection Fails!\")\n",
    "            return None\n",
    "        \n",
    "    #here, we have found a number within error. Return and print the iterations\n",
    "    return [(xa+xb)/2,count-1]\n",
    "\n",
    "#Function to use (-100 adjusts it to allow for comparison when Z = 100 instead of Z = 0)\n",
    "def fUse(x):\n",
    "    return ((np.sqrt((1/R**2)+(x*C-1/(x*L))**2)))-(1/Z)\n",
    "\n",
    "#Run our function (We want to use two endpoints on EITHER SIDE of Z=100)\n",
    "#This means, as the Z function is an absolute \"V\" shape, that we need to have a w value LARGER than ~200 and SMALLER than ~200\n",
    "print(\"Found the value within error after\", MyBisect(fUse,10,1000)[1],\"iterations!\")\n",
    "print(\"Value of w:\",np.round(MyBisect(fUse,10,1000)[0], 8))"
   ]
  },
  {
   "cell_type": "markdown",
   "metadata": {},
   "source": [
    "# Part 2\n",
    "\n",
    "Consider the tank on a water truck, which approximates as a cylinder lying on its side.  The diameter of the tank is 2.3 m and its length is 5.9 m.  For a cylinder lying horizontal, the volume a liquid $V$ will occupy at a height $x$ in the cylinder is\n",
    "\n",
    "$\\Large V = \\left[r^2 \\cos^{-1}\\left( \\frac{r-x}{r} \\right) - (r-x)\\sqrt{2rx-x^2}  \\right] L$\n",
    "\n",
    "where $r$ is the radius of the cylinder and $L$ is its length.  Create a function $MyNewton(f, fderiv, x1)$ that can accept a function and its derivative to determine the height of water in the tank for a specific volume.  In particular, what height of water in the tank is needed for a job requiring 14 m$^3$ of water.  Estimate the error in the height using the relation\n",
    "\n",
    "$\\Large error = \\left| \\frac{x_{i+1} - x_i}{x_i} \\right|$\n",
    "\n",
    "Determine $x$ to within an error of 0.00001.  Print the determined value for $x$ and the number of iterations it took to acheive it.  Note: $\\cos^{-1} = \\arccos$\n",
    "\n",
    "You can validate your code by considering a tank that is half full."
   ]
  },
  {
   "cell_type": "code",
   "execution_count": 104,
   "metadata": {},
   "outputs": [
    {
     "name": "stdout",
     "output_type": "stream",
     "text": [
      "Found the value within error after 3 iterations!\n",
      "x value: 1.2787491250060228\n"
     ]
    }
   ],
   "source": [
    "#Constants\n",
    "D = 2.3\n",
    "L = 5.9\n",
    "r = D/2\n",
    "\n",
    "#Newton function\n",
    "def MyNewton(f,fderiv,x1):\n",
    "    #Find the next point\n",
    "    x2 = x1-(f(x1)/fderiv(x1))\n",
    "    count = 0\n",
    "    err = np.abs((x2-x1)/x1)\n",
    "    \n",
    "    #While loop until the proper error is found\n",
    "    while err > 0.00001:\n",
    "        count+=1\n",
    "        x1 = x2\n",
    "        x2 = x1-(f(x1)/fderiv(x1))\n",
    "        err = np.abs((x2-x1)/x1)\n",
    "    return [x2,count]\n",
    "\n",
    "#Volume\n",
    "def VolumeFunc(x):\n",
    "    return L*((r**2*np.arccos((r-x)/r))-((r-x)*np.sqrt(2*r*x-x**2)))-14\n",
    "\n",
    "#Volume Derivative\n",
    "def VolumeDeriv(x):\n",
    "    return L*((r/np.sqrt(1-((r-x)**2/r**2)))-(((2*x**2)-4*r*x+r**2)/np.sqrt(2*r*x-x**2)))\n",
    "\n",
    "#Print our results\n",
    "print(\"Found the value within error after\", MyNewton(VolumeFunc,VolumeDeriv, 0.5)[1],\"iterations!\")\n",
    "print(\"x value:\", MyNewton(VolumeFunc,VolumeDeriv, 0.5)[0])"
   ]
  },
  {
   "cell_type": "markdown",
   "metadata": {},
   "source": [
    "# Part 3\n",
    "\n",
    "Create a function $MySecant (f, x1, x2)$ employing the Secant Method to solve the RLC-circuit question from Part 1 and determining the which frequency $\\omega$ will give the same impedance of $100~\\Omega$.  Determine $\\omega$ to within a range of 0.00001 using an error estimate as in Part 2.  Print the determined value for $\\omega$ and the number of iterations it took to acheive it."
   ]
  },
  {
   "cell_type": "code",
   "execution_count": 105,
   "metadata": {},
   "outputs": [
    {
     "name": "stdout",
     "output_type": "stream",
     "text": [
      "Value found after 27 iterations!\n",
      "The w value is: 264.44945469\n"
     ]
    }
   ],
   "source": [
    "#If not redefined, the secant function will use the L from part 2 (NOT GOOD!!)\n",
    "L=0.4\n",
    "\n",
    "#Function to perform a secant root solution, using two starting points and a function.\n",
    "def MySecant(f,x1,x2):\n",
    "    \n",
    "    #Initial calculation of the first \"root\" (x axis intercept)\n",
    "    x3 = x2 - f(x2)*((x2-x1)/f(x2)-f(x1))\n",
    "    \n",
    "    #Count of iterations\n",
    "    count = 0\n",
    "    \n",
    "    #This while loop will execute until the max error (given in part 2) is below the desired threshold\n",
    "    while (x2-x1)/x1>0.00001:\n",
    "        \n",
    "        #Calculate the midpoint again\n",
    "        x3 = x2 - f(x2)*((x2-x1)/(f(x2)-f(x1)))\n",
    "        \n",
    "        #Move the two points to where the next iteration needs to be\n",
    "        x1 = x2\n",
    "        x2 = x3\n",
    "        count+=1\n",
    "    \n",
    "    #Now we have FOUND the value, and want to return it along with the number of iterations.\n",
    "    return [x3,count]\n",
    "\n",
    "#The two values used here don't really matter, as they are not required to bracket the root in order to solve.\n",
    "print(\"Value found after\", MySecant(fUse,0.01,0.02)[1],\"iterations!\")\n",
    "print(\"The w value is:\", np.round(MySecant(fUse,0.01,0.02)[0], 8))\n",
    "\n",
    "#Here, you can compare to the value above in Part 1 and see that they are indeed identical up to the fifth decimal place and beyond! However, this method converges quicker!"
   ]
  },
  {
   "cell_type": "markdown",
   "metadata": {},
   "source": [
    "# Part 4\n",
    "\n",
    "We can determine how much of your ice cubes are below the surface of your drink.  As will all good physics calculations, we will approximate an ice cube as a sphere.  When placed in the water, gravity will pull the ice cube down with a force $F_g = mg$, where $m$ is the mass of the ice cube $m = \\rho V$, where $\\rho$ is the density of the ice $\\rho_{ice} = 0.917 g/cm^3$ and $V$ is the volume of a sphere $V_{sphere} = \\frac{4}{3} \\pi r^3$.\n",
    "\n",
    "As the ice cube sinks in the liquid, Archimedes' Principle states that the upward force is equal to the weight of the fluid displaced by the ice cube.  Of note here, assume that the density of the liquid is that of water, $\\rho_{water} = 1.00 g/cm^3$, and the volume of the sphere exposed a height $d$ **above** the surface of the liquid is \n",
    "\n",
    "$\\large V_{above} = \\frac{\\pi d^2}{3}(3r-d)$.\n",
    "\n",
    "Determine the equation to solve, and choose one of the above methods to determine the result.  Assume that the radius of the ice cube is 1.00 cm.\n",
    "\n",
    "$Q$:  Does you answer seem reasonable?  Instead of an ice cube, consider a ping pong ball with a density of $0.1 g/cm^3$.  Is it what you would expect?"
   ]
  },
  {
   "cell_type": "code",
   "execution_count": 106,
   "metadata": {},
   "outputs": [
    {
     "name": "stdout",
     "output_type": "stream",
     "text": [
      "Distance exposed for the ice cube = 0.1988067626953125 cm\n",
      "Iterations taked: 14 !\n",
      "\n",
      "\n",
      "Distance exposed for the ping pong ball = 0.7265152931213379 cm\n",
      "Iterations taked: 19 !\n"
     ]
    }
   ],
   "source": [
    "#Constants\n",
    "pice = 0.917\n",
    "pwater = 1.00\n",
    "rice = 1\n",
    "g = 9.81\n",
    "pPingPong = 0.1\n",
    "\n",
    "#Force Summations for each ice and ping pong\n",
    "FIce = lambda d: (4*np.pi/3-np.pi*d**2*(3-d))*pwater-4*np.pi/3*pice\n",
    "FPingPong = lambda d: (4*np.pi/3-np.pi*d**2*(3-d))*pwater-4*np.pi/3*pPingPong\n",
    "\n",
    "#Do a bisection for the ice cube\n",
    "res = MyBisect(FIce,0,3)\n",
    "\n",
    "print(\"Distance exposed for the ice cube =\", res[0], \"cm\")\n",
    "print(\"Iterations taked:\", res[1],\"!\")\n",
    "\n",
    "print(\"\\n\")\n",
    "\n",
    "\n",
    "#Do a bisection for the ping pong ball\n",
    "res = MyBisect(FPingPong,0,3)\n",
    "\n",
    "print(\"Distance exposed for the ping pong ball =\", res[0], \"cm\")\n",
    "print(\"Iterations taked:\", res[1],\"!\")\n",
    "\n",
    "#Yes, the answer seems reasonable,as a majority of the ping pong ball is above the water, while the ice cube is almost completely submerged!"
   ]
  },
  {
   "cell_type": "markdown",
   "metadata": {},
   "source": [
    "# Part 5\n",
    "\n",
    "In the lecture, we looked at the Kronig-Penny model for the movement of an electron in a crystal.  The analytical solution from Schrodinger's equation is:\n",
    "\n",
    "$\\Large P' \\frac{\\sin \\alpha a}{\\alpha a} + \\cos \\alpha a = \\cos k a$\n",
    "\n",
    "where the energy $E$ is embedded in the $\\alpha$ term.  To simplify the calculation of this equation, we will replace all constants with \"1\", which leaves\n",
    "\n",
    "$\\Large \\frac{\\sin E}{E} + \\cos E = \\cos k$\n",
    "\n",
    "Solve this equations for different values of $k$ from 0 to 3$\\pi$, in the ranges $0 \\leq k \\leq \\pi$, $\\pi \\leq k \\leq 2\\pi$, $2\\pi \\leq k \\leq 3\\pi$, and using at least 50 points per range.  The function will have multiple roots that will oscillate.  Given that we are solving for Energy, there can be only 1 value of $E$ for any value of $k$. So, use the lowest root for the first range of $k$, the second root for the next range of $k$, etc.  Your solutions should replicate the figure in the notes.  One feature you should observe is that as $E$ approaches the end of the range, its slope should go to zero.  When plotting, use 3 different plots, otherwise they will be connected across the gaps.\n",
    "\n",
    "Ideally, this is performed in a single FOR loop."
   ]
  },
  {
   "cell_type": "code",
   "execution_count": 102,
   "metadata": {},
   "outputs": [
    {
     "data": {
      "image/png": "[encoded data removed]",
      "text/plain": [
       "<Figure size 432x288 with 1 Axes>"
      ]
     },
     "metadata": {
      "needs_background": "light"
     },
     "output_type": "display_data"
    }
   ],
   "source": [
    "from matplotlib import pyplot as plt\n",
    "\n",
    "#Set the k values\n",
    "totalSpan = np.linspace(0.01,10,50)\n",
    "k1 = np.linspace(0,np.pi,num=50)\n",
    "k2 = np.linspace(np.pi,2*np.pi, num=50)\n",
    "k3 = np.linspace(2*np.pi, 3*np.pi, num=50)\n",
    "\n",
    "#Function that returns the zeros we want\n",
    "def KronPen(E):\n",
    "    return np.sin(E)/E+np.cos(E)-np.cos(k)\n",
    "\n",
    "#Three E arrays\n",
    "Arr1,Arr2,Arr3 = np.zeros(50),np.zeros(50),np.zeros(50)\n",
    "\n",
    "#Solve using a for loop in order to do 1 point at a time (in each array)\n",
    "for i in range (np.size(k1)):\n",
    "    #First Range\n",
    "    k = k1[i]\n",
    "    temp = MyBisect(KronPen,1,totalSpan[16])\n",
    "    Arr1[i] = temp[0]\n",
    "    \n",
    "    #Second Range\n",
    "    k = k2[i]\n",
    "    temp = MyBisect(KronPen,totalSpan[16],6.5)\n",
    "    Arr2[i] = temp[0]\n",
    "    \n",
    "    #Third Range\n",
    "    #Secant was used here because it fixes an overflow error\n",
    "    k = k3[i]\n",
    "    temp = MySecant(KronPen,7.8,8)\n",
    "    Arr3[i]=temp[0]\n",
    "    \n",
    "#Now lets plot some output!\n",
    "#The three solution ranges, all in different colours!\n",
    "plt.figure(2)\n",
    "plt.plot(k1,Arr1)\n",
    "plt.plot(k2,Arr2)\n",
    "plt.plot(k3,Arr3)\n",
    "plt.title(\"Solutions for E for the 3 ranges\")\n",
    "plt.xlabel(\"k\")\n",
    "plt.ylabel(\"E\")\n",
    "plt.show()    "
   ]
  },
  {
   "cell_type": "markdown",
   "metadata": {},
   "source": [
    "# Part 6\n",
    "\n",
    "To come later in a separate notebook."
   ]
  },
  {
   "cell_type": "code",
   "execution_count": null,
   "metadata": {},
   "outputs": [],
   "source": []
  },
  {
   "cell_type": "markdown",
   "metadata": {},
   "source": [
    "## Acknowledgements\n",
    "\n",
    "Please comment on any help that you received from your group members or others concerning this Lab assignment."
   ]
  },
  {
   "cell_type": "markdown",
   "metadata": {},
   "source": []
  }
 ],
 "metadata": {
  "kernelspec": {
   "display_name": "Python 3",
   "language": "python",
   "name": "python3"
  },
  "language_info": {
   "codemirror_mode": {
    "name": "ipython",
    "version": 3
   },
   "file_extension": ".py",
   "mimetype": "text/x-python",
   "name": "python",
   "nbconvert_exporter": "python",
   "pygments_lexer": "ipython3",
   "version": "3.8.5"
  }
 },
 "nbformat": 4,
 "nbformat_minor": 4
}
