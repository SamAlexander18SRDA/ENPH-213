{
 "cells": [
  {
   "cell_type": "markdown",
   "metadata": {},
   "source": [
    "# ENPH 213 - Week 7 Lab\n",
    "\n",
    "In this lab, we will be working on Discrete Fourier Transforms and continuing to develop your Python skills.\n",
    "\n",
    "When you are finished, please rename this notebook to LastName_ENPH213_Lab7, where LastName is your last name.  Submit that file to onQ.\n",
    "\n",
    "For marking Parts 1-4 will be marked together (Weighted out of 10)."
   ]
  },
  {
   "cell_type": "markdown",
   "metadata": {},
   "source": [
    "## Part 1\n",
    "\n",
    "Create two windowing functions.\n",
    "\n",
    "The first is a Trapezoidal Window function $trapWindow(x)$ that rises in the first 10% and falls in the final 10% of the points.  It should be at its maximum value for all points in between.\n",
    "\n",
    "The second function is $sineWindow(x)$ that uses the first lobe of a sine wave (from 0 to $\\pi$).\n",
    "\n",
    "Both of these window functions should accomodate an input data set with an arbitrary, even number of points.  \n",
    "\n",
    "Plot the functions for 50 points within the range of $-1 \\leq x \\leq 1$.\n"
   ]
  },
  {
   "cell_type": "code",
   "execution_count": 1,
   "metadata": {},
   "outputs": [
    {
     "data": {
      "image/png": "[encoded data removed]",
      "text/plain": [
       "<Figure size 432x288 with 1 Axes>"
      ]
     },
     "metadata": {
      "needs_background": "light"
     },
     "output_type": "display_data"
    }
   ],
   "source": [
    "#Libraries\n",
    "import numpy as np\n",
    "from matplotlib import pyplot as plt\n",
    "\n",
    "#Default x value used\n",
    "x = np.linspace(-1,1,50)\n",
    "\n",
    "#Trapezoid window (creates the base figure)\n",
    "def trapWindow(x):\n",
    "    number = int(0.1*len(x))\n",
    "    \n",
    "    trapY = np.linspace(-1,1,len(x))\n",
    "    \n",
    "    #First 10%\n",
    "    for i in range(0,number):\n",
    "        trapY[i] = i/number\n",
    "       \n",
    "    #Middle\n",
    "    for j in range(number, len(x)-number):\n",
    "        trapY[j] = 1\n",
    "    \n",
    "    #Last 10%\n",
    "    for k in range(len(x)-number,len(x)):\n",
    "        trapY[k] = 1-(k-int((len(x)-number-1)))/number\n",
    "        \n",
    "    return trapY\n",
    "\n",
    "#Sine Window function\n",
    "def sineWindow(x):\n",
    "    number = len(x)\n",
    "    y = np.sin(x)\n",
    "    \n",
    "    #Scale the sin to default here (period of 1 effectively)\n",
    "    for i in range(number):\n",
    "        y[i] = np.sin((i*np.pi)/(number-1))\n",
    "        \n",
    "    return y\n",
    "\n",
    "#Plot the default functions!\n",
    "plt.plot(x,trapWindow(x))\n",
    "plt.plot(x,sineWindow(x))\n",
    "plt.show()"
   ]
  },
  {
   "cell_type": "markdown",
   "metadata": {},
   "source": [
    "# Part 2\n",
    "\n",
    "Create a data set of the linear funcion $f(t) = 2t$ with 30 regularly spaced points between  $-\\pi \\leq t \\leq \\pi$.  Manually set the first and last points to zero as a basic windowing protocol.  This creates a sawtooth function.\n",
    "\n",
    "Create a function $myDFT(t, y)$ that calculates and prints the $a_k$ and $b_k$ coefficients using the forms for discrete Fourier Transforms.  Once found, create a second function $plotFourier(t, ak, bk, omega)$ that returns the evaluated Fourier expansion and plots the Fourier series expansion using the Fourier coefficients as input.  Plot the function using 201 points in graph.\n",
    "\n",
    "Remember that when you remove the last point, your data set will have an odd number of points. "
   ]
  },
  {
   "cell_type": "code",
   "execution_count": 2,
   "metadata": {},
   "outputs": [
    {
     "name": "stdout",
     "output_type": "stream",
     "text": [
      "Coefficients for the 30 point sample:\n",
      "[ 9.43689571e-16 -3.88578059e-16  8.88178420e-16 -4.44089210e-16\n",
      " -5.55111512e-16  3.88578059e-16 -1.41553436e-15  2.00880979e-15\n",
      " -1.12410081e-15  8.32667268e-16  1.30451205e-15 -2.10942375e-15\n",
      "  2.94209102e-15 -2.33146835e-15  1.88737914e-15]\n",
      "[ 3.85152899 -1.90298658  1.24318863 -0.90539217  0.69618235 -0.55102593\n",
      "  0.44220521 -0.35579905  0.28400702 -0.2220756   0.16689666 -0.11630119\n",
      "  0.06867173 -0.02271096]\n"
     ]
    },
    {
     "data": {
      "image/png": "[encoded data removed]",
      "text/plain": [
       "<Figure size 432x288 with 1 Axes>"
      ]
     },
     "metadata": {
      "needs_background": "light"
     },
     "output_type": "display_data"
    }
   ],
   "source": [
    "w=1\n",
    "\n",
    "#Function that we want (sets first and last to 0)\n",
    "def f(t):\n",
    "    #Set the first and last to 0\n",
    "    returnVal = np.zeros(len(t))\n",
    "    returnVal[0] = 0\n",
    "    returnVal[len(t)-1] = 0\n",
    "    \n",
    "    #Everything else f(t)=2t\n",
    "    for i in range(1,len(t)-1):\n",
    "        returnVal[i]=2*t[i]\n",
    "    #return!\n",
    "    return returnVal\n",
    "    \n",
    "#plot party!    \n",
    "t = np.linspace(-np.pi,np.pi,30)\n",
    "y = f(t)\n",
    "\n",
    "#This function calculates the a and b values\n",
    "def myDFT(t,y):\n",
    "    #Do some handy floor division!\n",
    "    kmax = len(t)//2\n",
    "       \n",
    "    #Make the two coeff arrays\n",
    "    a = np.zeros(kmax)\n",
    "    b = np.zeros(kmax-1)\n",
    "    \n",
    "    #Fill them up!\n",
    "    for i in range(len(t)-1):\n",
    "        #a\n",
    "        for j in range(0,kmax):\n",
    "            a[j]+=(1/kmax)*y[i]*np.cos(j*w*t[i])\n",
    "        #b\n",
    "        for k in range(1,kmax):\n",
    "            b[k-1]+=(1/kmax)*y[i]*np.sin(k*w*t[i])\n",
    "\n",
    "    return a,b\n",
    "\n",
    "#This function plots the fourier transformed values (does a large summation!)\n",
    "def plotFourier(t,ak,bk,omega):\n",
    "    pSum = np.zeros(len(t))\n",
    "    pSum = ak[0]/2\n",
    "    \n",
    "    #Sum up the values for each point!\n",
    "    for k in range(1,int(len(t)/2)):\n",
    "        pSum+=ak[k]*np.cos(k*omega*t)\n",
    "        pSum+=bk[k-1]*np.sin(k*omega*t)\n",
    "    \n",
    "    plt.plot(t,pSum)\n",
    "    return pSum\n",
    "    \n",
    "a,b = myDFT(t,y)\n",
    "print(\"Coefficients for the 30 point sample:\")\n",
    "print(a)\n",
    "print(b)\n",
    "\n",
    "#Now evaluate with 201 points\n",
    "tFourEval = np.linspace(-np.pi,np.pi,201)\n",
    "aEval,bEval = myDFT(tFourEval,f(tFourEval))\n",
    "\n",
    "plotFourier(tFourEval,aEval,bEval,w)\n",
    "plt.plot(t,y,'.',ms=3)\n",
    "plt.show()"
   ]
  },
  {
   "cell_type": "markdown",
   "metadata": {},
   "source": [
    "# Part 3\n",
    "\n",
    "Use the two windowing functions from Part 1 (separately) on the sawtooth function from Part 2.  Determine and print the coefficients and plot the figures.\n",
    "\n",
    "**Question: Which windowing function seems to work best?**"
   ]
  },
  {
   "cell_type": "code",
   "execution_count": 3,
   "metadata": {},
   "outputs": [
    {
     "name": "stdout",
     "output_type": "stream",
     "text": [
      "Trapezoid Coeffs:\n",
      "[ 7.49400542e-16 -6.10622664e-16  9.57567359e-16 -5.27355937e-16\n",
      " -6.24500451e-16  3.26128013e-16 -1.48492330e-15  2.12069945e-15\n",
      " -1.08593690e-15  7.21644966e-16  1.23512311e-15 -2.09554596e-15\n",
      "  2.98372438e-15 -2.35922393e-15  1.97064587e-15]\n",
      "[ 3.63866496 -1.50117025  0.69654518 -0.27151348  0.03751314  0.07412016\n",
      " -0.10304798  0.08047158 -0.03349611 -0.01532474  0.04968337 -0.06091183\n",
      "  0.0483255  -0.01824132]\n",
      "\n",
      "\n",
      "Sin Coeffs:\n",
      "[ 6.31439345e-16 -2.01227923e-16  9.02056208e-17 -2.63677968e-16\n",
      " -2.01227923e-16 -2.18575158e-16 -5.60315683e-16  8.75601674e-16\n",
      " -2.02095285e-16  5.08273978e-16  3.95516953e-16 -6.59194921e-16\n",
      "  6.59194921e-16 -5.75928194e-16  1.13103971e-15]\n",
      "[ 2.18807438e+00 -1.75023896e-01  4.81920974e-02 -1.97985277e-02\n",
      "  9.98413522e-03 -5.70026004e-03  3.52964051e-03 -2.30678965e-03\n",
      "  1.55891696e-03 -1.06867971e-03  7.25933940e-04 -4.69987371e-04\n",
      "  2.64495737e-04 -8.54223456e-05]\n",
      "\n",
      "\n"
     ]
    },
    {
     "data": {
      "image/png": "[encoded data removed]",
      "text/plain": [
       "<Figure size 432x288 with 1 Axes>"
      ]
     },
     "metadata": {
      "needs_background": "light"
     },
     "output_type": "display_data"
    }
   ],
   "source": [
    "w=1\n",
    "\n",
    "#First, create the windowed y values\n",
    "yTrap = trapWindow(t)*f(t)\n",
    "ySin = sineWindow(t)*f(t)\n",
    "\n",
    "#Next, find the coefficients!\n",
    "TrapCoeffA, TrapCoeffB = myDFT(t,yTrap)\n",
    "SinCoeffA, SinCoeffB = myDFT(t,ySin)\n",
    "\n",
    "#Print the coefficients!\n",
    "print(\"Trapezoid Coeffs:\")\n",
    "print(TrapCoeffA)\n",
    "print(TrapCoeffB)\n",
    "\n",
    "print(\"\\n\")\n",
    "\n",
    "print(\"Sin Coeffs:\")\n",
    "print(SinCoeffA)\n",
    "print(SinCoeffB)\n",
    "print(\"\\n\")\n",
    "\n",
    "#Finally, plot the fourier transformed values\n",
    "TrapPrint = plotFourier(t,TrapCoeffA,TrapCoeffB,w)\n",
    "SinPrint = plotFourier(t,SinCoeffA,SinCoeffB,w)\n",
    "\n",
    "#Time to plot the big masterpiece!\n",
    "plt.plot(t,f(t),'.',label='Original Data')\n",
    "plt.plot(t,TrapPrint,label='Trapezoid Window')\n",
    "plt.plot(t,SinPrint,label='Sine Window')\n",
    "plt.legend()\n",
    "plt.show()\n",
    "\n",
    "#ANSWER!!!! The trapezoid window seems to fit best, as it follows the linear portion longer, and does not deviate quickly unlike the sin window. "
   ]
  },
  {
   "cell_type": "markdown",
   "metadata": {},
   "source": [
    "# Part 4\n",
    "\n",
    "Create a function $cDFT(t, y)$ that calculates and prints the $c_k$ coefficients using the complex form for discrete Fourier transforms. Be sure to comment on the format of the output array.  Once found, plot the absolute value of the coefficients against the \"frequencies\" $k \\omega$ of the Fourier transform.  Note, there are no negative frequencies, but it is sometimes useful to plot them for visual analysis."
   ]
  },
  {
   "cell_type": "code",
   "execution_count": 5,
   "metadata": {},
   "outputs": [
    {
     "name": "stdout",
     "output_type": "stream",
     "text": [
      "C Coefficients:\n",
      "[ 3.25665421e-16+0.j         -3.25665421e-16-1.92576449j\n",
      "  4.14483263e-16+0.95149329j -2.07241631e-16-0.62159432j\n",
      " -2.36847579e-16+0.45269608j  1.92438658e-16-0.34809117j\n",
      " -7.54951657e-16+0.27551296j  1.02695630e-15-0.2211026j\n",
      " -4.51490697e-16+0.17789952j  3.84877315e-16-0.14200351j\n",
      "  5.92118946e-16+0.1110378j  -1.06581410e-15-0.08344833j\n",
      "  1.48029737e-15+0.05815059j -1.27305573e-15-0.03433586j\n",
      "  8.58572472e-16+0.01135548j  5.92118946e-16+0.01135548j\n",
      " -1.15463195e-15+0.03433586j  5.92118946e-16-0.01135548j\n",
      "  8.58572472e-16-0.01135548j -1.27305573e-15+0.03433586j\n",
      "  1.48029737e-15-0.05815059j -1.06581410e-15+0.08344833j\n",
      "  5.92118946e-16-0.1110378j   3.84877315e-16+0.14200351j\n",
      " -4.51490697e-16-0.17789952j  1.02695630e-15+0.2211026j\n",
      " -7.54951657e-16-0.27551296j  1.92438658e-16+0.34809117j\n",
      " -2.36847579e-16-0.45269608j -2.07241631e-16+0.62159432j\n",
      "  4.14483263e-16-0.95149329j -3.25665421e-16+1.92576449j]\n",
      "\n",
      "\n"
     ]
    },
    {
     "data": {
      "image/png": "[encoded data removed]",
      "text/plain": [
       "<Figure size 432x288 with 1 Axes>"
      ]
     },
     "metadata": {
      "needs_background": "light"
     },
     "output_type": "display_data"
    }
   ],
   "source": [
    "#Function that performs a discrete fourier transform\n",
    "def cDFT(t,y):\n",
    "    #Size of array\n",
    "    n = t.size\n",
    "    #Omega Value\n",
    "    omega = 1\n",
    "    #kmax reiterated\n",
    "    kmax = n//2\n",
    "    \n",
    "    #Now we want to find our c complex coefficients\n",
    "    cA = np.array(np.zeros(2*(kmax+1)),dtype = 'complex')\n",
    "    #Loop thru from (-kmax-1 --> kmax+1)\n",
    "    for k in range(-kmax-1,kmax+1):\n",
    "        cA[k] = np.sum(y*np.exp(-1j*k*omega*t))/n \n",
    "    return cA\n",
    "\n",
    "#Here, make the c coeffs and k*w, and then plot them.\n",
    "cK = cDFT(t,y)\n",
    "print(\"C Coefficients:\")\n",
    "print(cK)\n",
    "print(\"\\n\")\n",
    "n=t.size\n",
    "omega = 1\n",
    "\n",
    "#Again, use floor division\n",
    "kmax = n//2\n",
    "\n",
    "#now we just want to create the kw array (straightforward from -kmax-1 -> kmax+1)\n",
    "kw = np.ones(2*(kmax+1))\n",
    "for i in range(-kmax-1,kmax+1):\n",
    "    kw[i] = i*omega\n",
    "    \n",
    "#All done, now just plot!\n",
    "plt.plot(kw, np.abs(cK),'.')\n",
    "plt.xlabel('kw')\n",
    "plt.ylabel('ck')\n",
    "plt.show()"
   ]
  },
  {
   "cell_type": "markdown",
   "metadata": {},
   "source": [
    "## Acknowledgements\n",
    "\n",
    "Please comment on any help that you received from your group members or others concerning this Lab assignment."
   ]
  },
  {
   "cell_type": "markdown",
   "metadata": {},
   "source": []
  }
 ],
 "metadata": {
  "kernelspec": {
   "display_name": "Python 3",
   "language": "python",
   "name": "python3"
  },
  "language_info": {
   "codemirror_mode": {
    "name": "ipython",
    "version": 3
   },
   "file_extension": ".py",
   "mimetype": "text/x-python",
   "name": "python",
   "nbconvert_exporter": "python",
   "pygments_lexer": "ipython3",
   "version": "3.8.5"
  }
 },
 "nbformat": 4,
 "nbformat_minor": 4
}
