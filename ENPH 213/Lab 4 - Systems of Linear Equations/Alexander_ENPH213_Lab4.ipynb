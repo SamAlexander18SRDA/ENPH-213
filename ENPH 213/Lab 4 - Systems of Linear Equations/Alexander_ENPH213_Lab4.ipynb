{
 "cells": [
  {
   "cell_type": "markdown",
   "metadata": {},
   "source": [
    "# ENPH 213 - Week 4 Lab\n",
    "In this lab, we will be working on solving systems of linear equations using the Gaussian Elimination method while continuing to develop your Python skills.\n",
    "\n",
    "When you are finished, please rename this notebook to LastName_ENPH213_Lab4, where LastName is your last name.  Submit that file to onQ.\n",
    "\n",
    "For marking Parts 1-4 will be marked together (Weighted out of 10) and Parts 5 and 6 will be marked together (Weighted out of 5)."
   ]
  },
  {
   "cell_type": "markdown",
   "metadata": {},
   "source": [
    "## Part 1\n",
    "\n",
    "Write a function $GaussPivot(Ab, col)$ that inputs an augmented matrix $Ab$ of an $N \\times N$ matrix/2D array $A$ and vector/2D array $b$ of the size $N \\times 1$.  The $col$ input to the function is the column that of the pivot element to be assessed.  For this Part, the goal is to simulate finding those rows that would need to be pivoted in a Gaussian Elimination procedure, and no \"zeroing\" of columns is needed.  Remember that for a generic column $col$ input, a pivot point of $A_{jj}$ means that the pivot row is the same index as the column being reduced and only rows below $A_{jj}$ need to be considered.\n",
    "\n",
    "Start with the following arrays. \n",
    "\n",
    "$A = \\begin{bmatrix}\n",
    "    10 & 9 & 8 & 7 \\\\\n",
    "    1  & 2 & 3 & 4 \\\\\n",
    "    6  & 6 & 3 & 2 \\\\\n",
    "    1  & 5 & 4 & 7\n",
    "\\end{bmatrix}\n",
    ",\\ \\ \\ b = \\begin{bmatrix}\n",
    "    6  \\\\\n",
    "    5  \\\\\n",
    "    1  \\\\\n",
    "    9  \n",
    "\\end{bmatrix}$\n",
    "\n",
    "When using the augmented matrix $Ab$, the pivoted matrices I calculated are (for $col = 0, 1, 2$)\n",
    "\n",
    "$Ab = \\begin{bmatrix}\n",
    "    10 & 9 & 8 & 7 & 6\\\\\n",
    "    1  & 2 & 3 & 4 & 5\\\\\n",
    "    6  & 6 & 3 & 2 & 1\\\\\n",
    "    1  & 5 & 4 & 7 & 9\n",
    "\\end{bmatrix}\n",
    ",Ab = \\begin{bmatrix}\n",
    "    10 & 9 & 8 & 7 & 6\\\\\n",
    "    6  & 6 & 3 & 2 & 1\\\\\n",
    "    1  & 2 & 3 & 4 & 5\\\\\n",
    "    1  & 5 & 4 & 7 & 9\n",
    "\\end{bmatrix}\n",
    ",Ab = \\begin{bmatrix}\n",
    "    10 & 9 & 8 & 7 & 6\\\\\n",
    "    1  & 2 & 3 & 4 & 5\\\\\n",
    "    1  & 5 & 4 & 7 & 9\\\\\n",
    "    6  & 6 & 3 & 2 & 1\n",
    "\\end{bmatrix}$"
   ]
  },
  {
   "cell_type": "code",
   "execution_count": 7,
   "metadata": {},
   "outputs": [
    {
     "name": "stdout",
     "output_type": "stream",
     "text": [
      "[[10  9  8  7  6]\n",
      " [ 1  2  3  4  5]\n",
      " [ 6  6  3  2  1]\n",
      " [ 1  5  4  7  9]]\n",
      "[[10  9  8  7  6]\n",
      " [ 6  6  3  2  1]\n",
      " [ 1  2  3  4  5]\n",
      " [ 1  5  4  7  9]]\n",
      "[[10  9  8  7  6]\n",
      " [ 1  2  3  4  5]\n",
      " [ 1  5  4  7  9]\n",
      " [ 6  6  3  2  1]]\n"
     ]
    }
   ],
   "source": [
    "#For the issue that can be resolved using .copy(), I took an alternate method, which was to initialize the arrays from a function each time\n",
    "\n",
    "import numpy as np\n",
    "from matplotlib import pyplot as plt\n",
    "%matplotlib inline\n",
    "\n",
    "#Function to perform a gaussian pivot (take the highest value in column j under Ajj and swap)\n",
    "def GaussPivot(Ab,col):\n",
    "    checkArray = np.array(Ab[col: , col])\n",
    "    \n",
    "    indexMax = np.argmax(np.abs(checkArray))+col\n",
    "    \n",
    "    #Now, swap row #indexMax with the A_(j,col) row\n",
    "    row = Ab[col,:].copy()\n",
    "    Ab[col, :] = Ab[indexMax, :]    \n",
    "    Ab[indexMax, :] = row\n",
    "    return Ab\n",
    "\n",
    "#Initializes the array in between print statements (To prevent the stack using the wrong Ab)\n",
    "def InitArray():\n",
    "    #Two arrays being used\n",
    "    A = np.array([10,9,8,7,1,2,3,4,6,6,3,2,1,5,4,7])\n",
    "    A = np.reshape(A,(4,4))\n",
    "    b = np.array([[6],[5],[1],[9]])\n",
    "\n",
    "    #Adding the b array onto the A to form Ab to be send to the function\n",
    "    Ab = np.append(A,b,axis=1)\n",
    "    return Ab\n",
    "\n",
    "#Here, I am initializing the array in between each print to prevent any pivoting of already-used arrays\n",
    "Ab = InitArray()\n",
    "print(GaussPivot(Ab,0))\n",
    "Ab = InitArray()\n",
    "print(GaussPivot(Ab,1))\n",
    "Ab = InitArray()\n",
    "print(GaussPivot(Ab,2))"
   ]
  },
  {
   "cell_type": "markdown",
   "metadata": {},
   "source": [
    "## Part 2\n",
    "\n",
    "Write a function GaussElim(Ab, col) that inputs an augmented matrix $Ab$ of an $N \\times N$ matrix/2D array $A$ and vector/2D array $b$ of the size $N \\times 1$.  The $col$ input to the function is the column that of the pivot element, which will have zeros underneath.  For this Part, the goal is to only have zeros under the first pivot element ($A_{00}$), so col = 0.  It does _not_ have to put the matrix in triangular form.  Pivoting should be included in the function using the $GaussPivot(Ab, col)$ function above.\n",
    "\n",
    "When I entered the $Ab$ array from Part 1, I got the result:\n",
    "\n",
    "$Ab = \\begin{bmatrix}\n",
    "    10 & 9 & 8 & 7 & 6\\\\\n",
    "    0  & 1.1 & 2.2 & 3.3 & 4.4 \\\\\n",
    "    0  & 0.6 & -1.8 & -2.2 & -2.6\\\\\n",
    "    0  & 4.1 & 3.2 & 6.3 & 8.4\n",
    "\\end{bmatrix}$"
   ]
  },
  {
   "cell_type": "code",
   "execution_count": 55,
   "metadata": {},
   "outputs": [
    {
     "name": "stdout",
     "output_type": "stream",
     "text": [
      "[[10.   9.   8.   7.   6. ]\n",
      " [ 0.   1.1  2.2  3.3  4.4]\n",
      " [ 0.   0.6 -1.8 -2.2 -2.6]\n",
      " [ 0.   4.1  3.2  6.3  8.4]]\n"
     ]
    }
   ],
   "source": [
    "def GaussElim(Ab,col):\n",
    "    #Getting the depth and width of the array\n",
    "    N,M = Ab.shape\n",
    "    \n",
    "    #Making sure that we perform a Gauss Pivot before dividing\n",
    "    Ab = GaussPivot(Ab,col)\n",
    "    \n",
    "    #Loop to divide each consecutive row by the formula using the first in the sequence\n",
    "    for i in range(col+1,N):\n",
    "        Ab[i] = Ab[i]-((Ab[i][col]/Ab[col][col])*Ab[col])\n",
    "    return Ab\n",
    "\n",
    "#A function that initializes the arrays to be used (this time as floats instead of integers)\n",
    "def InitArrayDec():\n",
    "    #Two arrays being used (Just added decimals here to show the actual result and avoid chopping off the ends)\n",
    "    A = np.array([10.0,9.0,8.0,7.0,1.0,2.0,3.0,4.0,6.0,6.0,3.0,2.0,1.0,5.0,4.0,7.0])\n",
    "    A = np.reshape(A,(4,4))\n",
    "    b = np.array([[6.0],[5.0],[1.0],[9.0]])\n",
    "\n",
    "    #Adding the b array onto the A to form Ab to be send to the function\n",
    "    Ab = np.append(A,b,axis=1)\n",
    "    return Ab\n",
    "\n",
    "Ab = InitArrayDec()    \n",
    "print(GaussElim(Ab,0))"
   ]
  },
  {
   "cell_type": "markdown",
   "metadata": {},
   "source": [
    "## Part 3\n",
    "\n",
    "Write a third function UpTriang(A, b) that inputs an $N \\times N$ matrix/2D array $A$ and vector/2D array $b$ of the size $N \\times 1$.  This function should output an augmented matrix in upper triangular form.  In UpTriang(A, b), call the GaussElim(Ab, col) function you created above and index over the appropriate $col$ values.  The $col$ values should not be set, but instead should be derived from the size of $A$.  Using the $A$ and $b$ arrays above, my code generated the following outputs at the next two steps in the elimination process (decimals trucated).\n",
    "\n",
    "$Ab = \\begin{bmatrix}\n",
    "10 &   9 &  8&  7&    6 \\\\\n",
    "0  &  4.1& 3.2  &6.3  &  8.4  \\\\\n",
    "0  &   0 &  -2.268 & -3.12195 & -3.829268 \\\\\n",
    "0  &   0 &  1.341 &  1.6097 &  2.1463 \n",
    "\\end{bmatrix}$\n",
    "\n",
    "$Ab = \\begin{bmatrix}\n",
    "10 &   9 &  8&  7&    6 \\\\\n",
    "0  &  4.1& 3.2  &6.3  &  8.4  \\\\\n",
    "0  &   0 &  -2.268 & -3.12195 & -3.829268 \\\\\n",
    "0  &   0 &  0 &  -0.236559 &  -0.11828  \n",
    "\\end{bmatrix}$\n",
    "\n",
    "If everything is working except for your pivoting, then you should see\n",
    "\n",
    "$Ab = \\begin{bmatrix}\n",
    "10 &   9 &  8&  7&    6 \\\\\n",
    "0  &  1.1& 2.2  &3.3  &  4.4  \\\\\n",
    "0  &   0 &  -3 & -4 & -5 \\\\\n",
    "0  &   0 &  0 & 0.6667 &  0.3333 \n",
    "\\end{bmatrix}$"
   ]
  },
  {
   "cell_type": "code",
   "execution_count": 79,
   "metadata": {},
   "outputs": [
    {
     "name": "stdout",
     "output_type": "stream",
     "text": [
      "[[10.          9.          8.          7.          6.        ]\n",
      " [ 0.          4.1         3.2         6.3         8.4       ]\n",
      " [ 0.          0.         -2.26829268 -3.12195122 -3.82926829]\n",
      " [ 0.          0.          0.         -0.23655914 -0.11827957]]\n"
     ]
    }
   ],
   "source": [
    "#Function to perform Gaussian Elimination on an N*M matrix\n",
    "def UpTriang(A,b):\n",
    "    #Find the depth and width of A\n",
    "    N,M = A.shape\n",
    "    \n",
    "    #Create Ab\n",
    "    Ab = np.append(A,b,axis=1)  \n",
    "    \n",
    "    #Loop through and perform the func GaussElim on each consecutive column\n",
    "    for i in range(0,N-1):\n",
    "        Ab = GaussElim(Ab,i)\n",
    "    return Ab\n",
    "\n",
    "#Two arrays being used (Just added decimals here to show the actual result and avoid chopping off the ends)\n",
    "A2 = np.array([10.0,9.0,8.0,7.0,1.0,2.0,3.0,4.0,6.0,6.0,3.0,2.0,1.0,5.0,4.0,7.0])\n",
    "A2 = np.reshape(A2,(4,4))\n",
    "b2 = np.array([[6.0],[5.0],[1.0],[9.0]])       \n",
    "\n",
    "#print\n",
    "print(UpTriang(A2,b2))"
   ]
  },
  {
   "cell_type": "markdown",
   "metadata": {},
   "source": [
    "## Part 4\n",
    "\n",
    "Finally, write a function $BackSub(A, b)$ that inputs an $N \\times N$ matrix/2D array $A$ and vector/2D array $b$ of the size $N \\times 1$.  This function should call the $UpTriang(A, b)$ function and then use Back Substitution from the lecture to solve the system of equations $\\mathbf{Ax=b}$.  This function should output a 1-D array of values that correspond to the $x_i$ in the $\\mathbf x$ array.  To check your answer, substitute $\\mathbf x$ into $\\mathbf{Ax=b}$ to recover the values in $\\mathbf b$."
   ]
  },
  {
   "cell_type": "code",
   "execution_count": 34,
   "metadata": {},
   "outputs": [
    {
     "name": "stdout",
     "output_type": "stream",
     "text": [
      "[-1.   0.5  1.   0.5]\n"
     ]
    }
   ],
   "source": [
    "#Function to perform back substitution on an augmented matrix\n",
    "def BackSub(A,b):\n",
    "    N,M = A.shape\n",
    "    \n",
    "    #Upper triangular\n",
    "    Ab = UpTriang(A,b)\n",
    "    for i in range(0,N):\n",
    "        Ab[i] = Ab[i]/Ab[i][i]\n",
    "    \n",
    "    #Nested for loop in order to perform the algorithm calculation (j goes up the matrix, k goes \"down\" from j each time)     \n",
    "    for j in range(N-2,-1,-1):\n",
    "        for k in range(j+1,N):\n",
    "            Ab[j] = Ab[j]-Ab[j][k]*Ab[k]\n",
    "     \n",
    "    return Ab[:,-1]\n",
    "\n",
    "print(BackSub(A2,b2)) "
   ]
  },
  {
   "cell_type": "markdown",
   "metadata": {},
   "source": [
    "## Part 5\n",
    "\n",
    "You now have all the tools to write a function to return the inverse of a matrix.  Write a function $myInv(A)$ that inputs an $N \\times N$ matrix/2D array $A$ and returns its inverse.  You can work with the array $A$ above, and to verify that your new matrix is indeed the inverse, evaluate $\\mathbf{ A A^{-1} = I}$.\n",
    "\n",
    "Q: If your $\\mathbf{ A A^{-1} = I}$ is not exactly the identity matrix, please explain why?"
   ]
  },
  {
   "cell_type": "code",
   "execution_count": 37,
   "metadata": {},
   "outputs": [
    {
     "name": "stdout",
     "output_type": "stream",
     "text": [
      "[[ 1.545 -3.455 -2.     1.   ]\n",
      " [-1.045  1.955  1.5   -0.5  ]\n",
      " [-2.182  5.818  3.    -2.   ]\n",
      " [ 1.773 -4.227 -2.5    1.5  ]]\n",
      "\n",
      "\n",
      "[[ 1.  0. -0.  0.]\n",
      " [ 0.  1. -0.  0.]\n",
      " [ 0. -0.  1.  0.]\n",
      " [ 0. -0.  0.  1.]]\n"
     ]
    }
   ],
   "source": [
    "#Same function as above, but returns the whole arrray instead of the last column\n",
    "def BackSubFull(A,b):\n",
    "    N,M = A.shape\n",
    "    \n",
    "    #Upper triangular\n",
    "    Ab = UpTriang(A,b)\n",
    "    for i in range(0,N):\n",
    "        Ab[i] = Ab[i]/Ab[i][i]\n",
    "    \n",
    "    #Nested for loop in order to perform the algorithm calculation (j goes up the matrix, k goes \"down\" from j each time)   \n",
    "    for j in range(N-2,-1,-1):\n",
    "        for k in range(j+1,N):\n",
    "            Ab[j] = Ab[j]-Ab[j][k]*Ab[k]     \n",
    "    return Ab\n",
    "\n",
    "#Function to find the inverse of a matrix\n",
    "def myInv(A):\n",
    "    #Dimensions\n",
    "    N,M = A.shape\n",
    "    #Identity Matrix\n",
    "    I = np.identity(N)\n",
    "    #Augmented matrix [A|I]\n",
    "    Aaug = np.append(A,I,axis=1)\n",
    "    \n",
    "    #Back Sub in order to \"swap\" to the inversion\n",
    "    returnMatrix = BackSubFull(A,I)\n",
    "    return returnMatrix[:,N:]\n",
    "\n",
    "#Printing out the inverse\n",
    "print(np.round(myInv(A2),3))\n",
    "\n",
    "print(\"\\n\")\n",
    "\n",
    "#Checking to see if AA' = I\n",
    "print(np.round(np.dot(A2,myInv(A2))))\n",
    "\n",
    "####Q: The numbers experience some rounding during the calculation, and as they are not integers, this can lead to numbers that are not EXACTLY 0, yet very close (ex. -0 in the array)\n",
    "####Q: np.round is then used in order to make the final result more presentable (instead of a number to the power of snegative 30...)"
   ]
  },
  {
   "cell_type": "markdown",
   "metadata": {},
   "source": [
    "## Part 6\n",
    "\n",
    "Write a another function UpTriang2(A, b) that inputs an $N \\times N$ matrix/2D array $A$ and vector/2D array $b$ of the size $N \\times 1$.  This function should output an augmented matrix in upper triangular form.  In UpTriang2(A, b), call the GaussElim(Ab, col) function you created above as you did before, but instead of indexing over the appropriate $col$ values, remove the Row 0 and Column 0 parts of the array to create a slightly smaller array.  [Note, you should store the Row 0 value to create the upper triangular matrix.]  Then run GaussElim(Ab, col), for col=0, on this new smaller array, save Row 0, create a smaller array, and iterate until Gaussian Elimination is complete.  Test you algorithm against the $A$ and $b$ you used above.\n",
    "\n",
    "There is a thought that by working on smaller arrays, this method to create upper triangular matrices could be faster.  Test this idea by creating a large array of $1000 \\times 1000$ random values and create an upper triangular array use the two functions you have created.  Time their performance using the %timeit command before calling the functions. [Note: $b$ will need to be a 2D array of $1 \\times 1000$ elements.  \"Up-Size\" the array by using np.array([np.random.rand(1000)]).\n",
    "\n",
    "Q: Briefly discuss which function was faster and hypothesize why.  Also, time your functions for $100 \\times 100$ and $10 \\times 10$ input arrays.  How does the run-time change for changing N?  Does this make sense?  Consider this relative to the approximate number of calculations your function has to do."
   ]
  },
  {
   "cell_type": "code",
   "execution_count": 75,
   "metadata": {},
   "outputs": [
    {
     "name": "stdout",
     "output_type": "stream",
     "text": [
      "[[10.          9.          8.          7.          6.        ]\n",
      " [ 0.          4.1         3.2         6.3         8.4       ]\n",
      " [ 0.          0.         -2.26829268 -3.12195122 -3.82926829]\n",
      " [ 0.          0.          0.         -0.23655914 -0.11827957]]\n",
      "\n",
      "\n",
      "Loop 1:\n",
      "2.6 s ± 69.6 ms per loop (mean ± std. dev. of 7 runs, 1 loop each)\n",
      "Loop 2:\n",
      "2.24 s ± 14.2 ms per loop (mean ± std. dev. of 7 runs, 1 loop each)\n",
      "\n",
      "\n",
      "Loop 1:\n",
      "16.7 ms ± 62.5 µs per loop (mean ± std. dev. of 7 runs, 100 loops each)\n",
      "Loop 2:\n",
      "16.9 ms ± 73.2 µs per loop (mean ± std. dev. of 7 runs, 100 loops each)\n",
      "\n",
      "\n",
      "Loop 1:\n",
      "211 µs ± 1.24 µs per loop (mean ± std. dev. of 7 runs, 1000 loops each)\n",
      "Loop 2:\n",
      "231 µs ± 1.46 µs per loop (mean ± std. dev. of 7 runs, 1000 loops each)\n"
     ]
    }
   ],
   "source": [
    "def UpTriang2A(A,b):\n",
    "    N,M = A.shape\n",
    "    \n",
    "    #Create Ab\n",
    "    Ab = np.append(A,b,axis=1)\n",
    "    \n",
    "    #Create empty array\n",
    "    FinalArray = np.zeros((N,N+1))\n",
    "    \n",
    "    #Loop through and export each consecutive row into the new matrix (staggered into the ith column)\n",
    "    for i in range(0,N):\n",
    "        #GaussElim\n",
    "        Ab = GaussElim(Ab,0)\n",
    "        #Export\n",
    "        FinalArray[i,i:]=Ab[0]\n",
    "        #Slice\n",
    "        Ab = Ab[1:,1:]\n",
    "        \n",
    "    return FinalArray\n",
    "\n",
    "#Print Output\n",
    "print(UpTriang2A(A2,b2)) \n",
    "\n",
    "#TIME TO RACE!!!\n",
    "#1000\n",
    "RaceA = np.array(np.random.rand(1000,1000))\n",
    "Raceb = np.array(np.random.rand(1000,1))\n",
    "\n",
    "print(\"\\n\")\n",
    "\n",
    "print(\"Loop 1:\")\n",
    "%timeit UpTriang(RaceA,Raceb)\n",
    "print(\"Loop 2:\")\n",
    "%timeit UpTriang2A(RaceA,Raceb)\n",
    "\n",
    "print(\"\\n\")\n",
    "#100\n",
    "RaceA = np.array(np.random.rand(100,100))\n",
    "Raceb = np.array(np.random.rand(100,1))\n",
    "\n",
    "print(\"Loop 1:\")\n",
    "%timeit UpTriang(RaceA,Raceb)\n",
    "print(\"Loop 2:\")\n",
    "%timeit UpTriang2A(RaceA,Raceb)\n",
    "\n",
    "print(\"\\n\")\n",
    "#10\n",
    "RaceA = np.array(np.random.rand(10,10))\n",
    "Raceb = np.array(np.random.rand(10,1))\n",
    "\n",
    "print(\"Loop 1:\")\n",
    "%timeit UpTriang(RaceA,Raceb)\n",
    "print(\"Loop 2:\")\n",
    "%timeit UpTriang2A(RaceA,Raceb)\n",
    "\n",
    "#Here, the second function was faster, as it will perform calculations on a progressively smaller matrix with each loop run. This means that as the function progresses, it will outperform the original\n",
    "#However, if the number of values is reduced, then it will be required to perform an EXTRA calculation (cutting out the needed row), meaning it will perform worse (as shown in the N=100 and N=10).\n",
    "#At low N, this extra operation will NOT BE WORTH IT, and take up more time to perform. At high N, this function will become more efficient."
   ]
  },
  {
   "cell_type": "markdown",
   "metadata": {},
   "source": [
    "## Acknowledgements\n",
    "\n",
    "Please comment on any help that you received from your group members or others concerning this Lab assignment."
   ]
  },
  {
   "cell_type": "markdown",
   "metadata": {},
   "source": []
  }
 ],
 "metadata": {
  "kernelspec": {
   "display_name": "Python 3",
   "language": "python",
   "name": "python3"
  },
  "language_info": {
   "codemirror_mode": {
    "name": "ipython",
    "version": 3
   },
   "file_extension": ".py",
   "mimetype": "text/x-python",
   "name": "python",
   "nbconvert_exporter": "python",
   "pygments_lexer": "ipython3",
   "version": "3.8.5"
  }
 },
 "nbformat": 4,
 "nbformat_minor": 4
}
